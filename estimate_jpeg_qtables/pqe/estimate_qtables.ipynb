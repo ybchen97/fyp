{
 "cells": [
  {
   "cell_type": "markdown",
   "id": "807441df",
   "metadata": {
    "heading_collapsed": true
   },
   "source": [
    "## Define key variables and functions"
   ]
  },
  {
   "cell_type": "markdown",
   "id": "8f7d962c",
   "metadata": {
    "hidden": true
   },
   "source": [
    "### Define JPEG standard quantization table"
   ]
  },
  {
   "cell_type": "code",
   "execution_count": 1,
   "id": "7982e337",
   "metadata": {
    "hidden": true
   },
   "outputs": [],
   "source": [
    "import numpy as np\n",
    "\n",
    "q_table_luminance = np.array([\n",
    "    [16,  11,  10,  16,  24,  40,  51,  61],\n",
    "    [12,  12,  14,  19,  26,  58,  60,  55],\n",
    "    [14,  13,  16,  24,  40,  57,  69,  56],\n",
    "    [14,  17,  22,  29,  51,  87,  80,  62],\n",
    "    [18,  22,  37,  56,  68, 109, 103,  77],\n",
    "    [24,  35,  55,  64,  81, 104, 113,  92],\n",
    "    [49,  64,  78,  87, 103, 121, 120, 101],\n",
    "    [72,  92,  95,  98, 112, 100, 103,  99]\n",
    "])\n",
    "\n",
    "q_table_chrominance = np.array([\n",
    "    [17,  18,  24,  47,  99,  99,  99,  99],\n",
    "    [18,  21,  26,  66,  99,  99,  99,  99],\n",
    "    [24,  26,  56,  99,  99,  99,  99,  99],\n",
    "    [47,  66,  99,  99,  99,  99,  99,  99],\n",
    "    [99,  99,  99,  99,  99,  99,  99,  99],\n",
    "    [99,  99,  99,  99,  99,  99,  99,  99],\n",
    "    [99,  99,  99,  99,  99,  99,  99,  99],\n",
    "    [99,  99,  99,  99,  99,  99,  99,  99]\n",
    "])\n",
    "\n",
    "def scale_q_table(q_table, q_factor):\n",
    "    if q_factor <= 0:\n",
    "        q_factor = 1\n",
    "    if q_factor > 100:\n",
    "        q_factor = 100\n",
    "\n",
    "    if q_factor < 50:\n",
    "        scale_factor = 5000 / q_factor\n",
    "    else:\n",
    "        scale_factor = 200 - q_factor * 2\n",
    "    \n",
    "    scaled_table = (q_table * scale_factor + 50) // 100\n",
    "    scaled_table[scaled_table <= 0] = 1  # prevent zero division\n",
    "    return scaled_table"
   ]
  },
  {
   "cell_type": "code",
   "execution_count": 2,
   "id": "7d98ba43",
   "metadata": {
    "hidden": true
   },
   "outputs": [
    {
     "data": {
      "text/plain": [
       "array([[ 8,  6,  5,  8, 12, 20, 26, 31],\n",
       "       [ 6,  6,  7, 10, 13, 29, 30, 28],\n",
       "       [ 7,  7,  8, 12, 20, 29, 35, 28],\n",
       "       [ 7,  9, 11, 15, 26, 44, 40, 31],\n",
       "       [ 9, 11, 19, 28, 34, 55, 52, 39],\n",
       "       [12, 18, 28, 32, 41, 52, 57, 46],\n",
       "       [25, 32, 39, 44, 52, 61, 60, 51],\n",
       "       [36, 46, 48, 49, 56, 50, 52, 50]])"
      ]
     },
     "execution_count": 2,
     "metadata": {},
     "output_type": "execute_result"
    }
   ],
   "source": [
    "scale_q_table(q_table_luminance, 75)"
   ]
  },
  {
   "cell_type": "markdown",
   "id": "8d4fe6f9",
   "metadata": {
    "hidden": true
   },
   "source": [
    "### Zig-zag scan algorithm"
   ]
  },
  {
   "cell_type": "code",
   "execution_count": 3,
   "id": "d63806d4",
   "metadata": {
    "hidden": true
   },
   "outputs": [],
   "source": [
    "# ref: https://github.com/getsanjeev/compression-DCT/blob/master/zigzag.py\n",
    "\n",
    "# Zigzag scan of a matrix\n",
    "# Argument is a two-dimensional matrix of any size,\n",
    "# not strictly a square one.\n",
    "# Function returns a 1-by-(m*n) array,\n",
    "# where m and n are sizes of an input matrix,\n",
    "# consisting of its items scanned by a zigzag method.\n",
    "\n",
    "def zigzag(input):\n",
    "    #initializing the variables\n",
    "    #----------------------------------\n",
    "    h = 0\n",
    "    v = 0\n",
    "\n",
    "    vmin = 0\n",
    "    hmin = 0\n",
    "\n",
    "    vmax = input.shape[0]\n",
    "    hmax = input.shape[1]\n",
    "    \n",
    "    i = 0\n",
    "\n",
    "    output = np.zeros(( vmax * hmax), dtype=int)\n",
    "    #----------------------------------\n",
    "\n",
    "    while ((v < vmax) and (h < hmax)):\n",
    "        \n",
    "        if ((h + v) % 2) == 0:                 # going up\n",
    "            \n",
    "            if (v == vmin):\n",
    "                output[i] = input[v, h]        # if we got to the first line\n",
    "\n",
    "                if (h == hmax):\n",
    "                    v = v + 1\n",
    "                else:\n",
    "                    h = h + 1                        \n",
    "\n",
    "                i = i + 1\n",
    "\n",
    "            elif ((h == hmax -1 ) and (v < vmax)):   # if we got to the last column\n",
    "                output[i] = input[v, h] \n",
    "                v = v + 1\n",
    "                i = i + 1\n",
    "\n",
    "            elif ((v > vmin) and (h < hmax -1 )):    # all other cases\n",
    "                #print(3)\n",
    "                output[i] = input[v, h] \n",
    "                v = v - 1\n",
    "                h = h + 1\n",
    "                i = i + 1\n",
    "        \n",
    "        else:                                    # going down\n",
    "\n",
    "            if ((v == vmax -1) and (h <= hmax -1)):       # if we got to the last line\n",
    "                output[i] = input[v, h] \n",
    "                h = h + 1\n",
    "                i = i + 1\n",
    "        \n",
    "            elif (h == hmin):                  # if we got to the first column\n",
    "                output[i] = input[v, h] \n",
    "\n",
    "                if (v == vmax -1):\n",
    "                    h = h + 1\n",
    "                else:\n",
    "                    v = v + 1\n",
    "\n",
    "                i = i + 1\n",
    "\n",
    "            elif ((v < vmax -1) and (h > hmin)):     # all other cases\n",
    "                output[i] = input[v, h] \n",
    "                v = v + 1\n",
    "                h = h - 1\n",
    "                i = i + 1\n",
    "\n",
    "        if ((v == vmax-1) and (h == hmax-1)):          # bottom right element\n",
    "            output[i] = input[v, h] \n",
    "            break\n",
    "\n",
    "    return output\n",
    "\n",
    "# Inverse zigzag scan of a matrix\n",
    "# Arguments are: a 1-by-m*n array, \n",
    "# where m & n are vertical & horizontal sizes of an output matrix.\n",
    "# Function returns a two-dimensional matrix of defined sizes,\n",
    "# consisting of input array items gathered by a zigzag method.\n",
    "\n",
    "def inverse_zigzag(input, vmax, hmax):\n",
    "    # initializing the variables\n",
    "    #----------------------------------\n",
    "    h = 0\n",
    "    v = 0\n",
    "\n",
    "    vmin = 0\n",
    "    hmin = 0\n",
    "\n",
    "    output = np.zeros((vmax, hmax), dtype=int)\n",
    "\n",
    "    i = 0\n",
    "    #----------------------------------\n",
    "\n",
    "    while ((v < vmax) and (h < hmax)): \n",
    "        if ((h + v) % 2) == 0:                 # going up\n",
    "            \n",
    "            if (v == vmin):                \n",
    "                output[v, h] = input[i]        # if we got to the first line\n",
    "\n",
    "                if (h == hmax):\n",
    "                    v = v + 1\n",
    "                else:\n",
    "                    h = h + 1                        \n",
    "\n",
    "                i = i + 1\n",
    "\n",
    "            elif ((h == hmax -1 ) and (v < vmax)):   # if we got to the last column\n",
    "                output[v, h] = input[i] \n",
    "                v = v + 1\n",
    "                i = i + 1\n",
    "\n",
    "            elif ((v > vmin) and (h < hmax -1 )):    # all other cases\n",
    "                output[v, h] = input[i] \n",
    "                v = v - 1\n",
    "                h = h + 1\n",
    "                i = i + 1\n",
    "                \n",
    "        else:                                    # going down\n",
    "\n",
    "            if ((v == vmax -1) and (h <= hmax -1)):       # if we got to the last line\n",
    "                output[v, h] = input[i] \n",
    "                h = h + 1\n",
    "                i = i + 1\n",
    "        \n",
    "            elif (h == hmin):                  # if we got to the first column\n",
    "                output[v, h] = input[i] \n",
    "                if (v == vmax -1):\n",
    "                    h = h + 1\n",
    "                else:\n",
    "                    v = v + 1\n",
    "                i = i + 1\n",
    "                                \n",
    "            elif((v < vmax -1) and (h > hmin)):     # all other cases\n",
    "                output[v, h] = input[i] \n",
    "                v = v + 1\n",
    "                h = h - 1\n",
    "                i = i + 1\n",
    "\n",
    "        if ((v == vmax-1) and (h == hmax-1)):          # bottom right element\n",
    "            output[v, h] = input[i] \n",
    "            break\n",
    "\n",
    "    return output"
   ]
  },
  {
   "cell_type": "code",
   "execution_count": 4,
   "id": "4ec2883c",
   "metadata": {
    "hidden": true
   },
   "outputs": [],
   "source": [
    "col_idx, row_idx = np.meshgrid(np.arange(8),np.arange(8))\n",
    "zigzag_row_idx = zigzag(row_idx)\n",
    "zigzag_col_idx = zigzag(col_idx)"
   ]
  },
  {
   "cell_type": "code",
   "execution_count": 5,
   "id": "09fb9f64",
   "metadata": {
    "hidden": true
   },
   "outputs": [
    {
     "name": "stdout",
     "output_type": "stream",
     "text": [
      "[[5 1 5 2 4 0 4 8]\n",
      " [2 5 9 5 0 8 7 2]\n",
      " [3 5 3 2 5 4 8 2]\n",
      " [9 2 3 0 9 9 6 1]\n",
      " [8 3 7 7 9 8 2 0]\n",
      " [3 3 9 1 9 4 4 0]\n",
      " [4 2 0 3 4 4 0 9]\n",
      " [0 2 5 1 1 9 1 0]]\n",
      "First 21 coefficients in zig-zag order:\n",
      " [5 1 2 3 5 5 2 9 5 9 8 2 3 5 4 0 0 2 3 3 3]\n"
     ]
    }
   ],
   "source": [
    "a = np.random.randint(10, size=(8,8))\n",
    "dct_n = 21\n",
    "print(a)\n",
    "print(f\"First {dct_n} coefficients in zig-zag order:\\n\", a[zigzag_row_idx[:dct_n], zigzag_col_idx[:dct_n]])"
   ]
  },
  {
   "cell_type": "markdown",
   "id": "380298e1",
   "metadata": {},
   "source": [
    "## JPEG q-table estimation algorithm"
   ]
  },
  {
   "cell_type": "markdown",
   "id": "1cdd263c",
   "metadata": {
    "heading_collapsed": true
   },
   "source": [
    "### Testing JPEG compression with `PIL`\n",
    "\n",
    "Use a RAW tiff image taken from the RAISE dataset, jpeg compress the image using a quantization table I know."
   ]
  },
  {
   "cell_type": "code",
   "execution_count": 6,
   "id": "adb3c983",
   "metadata": {
    "hidden": true
   },
   "outputs": [],
   "source": [
    "import numpy as np\n",
    "from PIL import Image\n",
    "import jpeglib"
   ]
  },
  {
   "cell_type": "markdown",
   "id": "b0c994de",
   "metadata": {
    "hidden": true
   },
   "source": [
    "Convert to grayscale to remove potential confusions with the chrominance quantization tables"
   ]
  },
  {
   "cell_type": "code",
   "execution_count": 7,
   "id": "ec663f4d",
   "metadata": {
    "hidden": true
   },
   "outputs": [],
   "source": [
    "im = Image.open('raise_1k/r146771d7t.TIF').convert('L')"
   ]
  },
  {
   "cell_type": "markdown",
   "id": "c2955010",
   "metadata": {
    "hidden": true
   },
   "source": [
    "Take a random custom table"
   ]
  },
  {
   "cell_type": "code",
   "execution_count": null,
   "id": "596ccdb0",
   "metadata": {
    "hidden": true,
    "scrolled": true
   },
   "outputs": [],
   "source": [
    "my_q_table = custom_q_tables['q_table'][1000][0]\n",
    "my_q_table"
   ]
  },
  {
   "cell_type": "markdown",
   "id": "16f736bb",
   "metadata": {
    "hidden": true
   },
   "source": [
    "`PIL` accepts q tables as a list of 64 integers, which are **NOT** in zigzag fashion, but in **normal array order**. [[ref](https://github.com/libjpeg-turbo/libjpeg-turbo/blob/main/libjpeg.txt#L937)]"
   ]
  },
  {
   "cell_type": "code",
   "execution_count": 6,
   "id": "9647ee55",
   "metadata": {
    "hidden": true
   },
   "outputs": [
    {
     "data": {
      "text/plain": [
       "array([ 3,  2, 10, 10, 10,  8,  8,  8,  2, 10, 10, 10,  8,  8,  8,  8, 10,\n",
       "       10, 10, 10,  8,  8,  8,  8, 10, 10,  8,  8,  8,  8,  8,  8, 10,  8,\n",
       "        8,  8,  8, 10,  9,  8,  8,  8,  8,  8,  8, 10, 13,  8,  8,  8,  8,\n",
       "        8,  9, 13, 12,  8,  8,  8,  8,  8, 10,  8,  9,  8], dtype=uint8)"
      ]
     },
     "execution_count": 6,
     "metadata": {},
     "output_type": "execute_result"
    }
   ],
   "source": [
    "my_q_table = my_q_table.reshape(-1)\n",
    "my_q_table"
   ]
  },
  {
   "cell_type": "code",
   "execution_count": 7,
   "id": "0fc283ba",
   "metadata": {
    "hidden": true
   },
   "outputs": [],
   "source": [
    "im.save('test_pil.jpg', qtables=[my_q_table], subsampling=0)"
   ]
  },
  {
   "cell_type": "markdown",
   "id": "1d781a2f",
   "metadata": {
    "hidden": true
   },
   "source": [
    "Read with `PIL` and check"
   ]
  },
  {
   "cell_type": "code",
   "execution_count": 8,
   "id": "6f3fd541",
   "metadata": {
    "hidden": true,
    "scrolled": true
   },
   "outputs": [
    {
     "data": {
      "text/plain": [
       "array([0, 0, 0, 0, 0, 0, 0, 0, 0, 0, 0, 0, 0, 0, 0, 0, 0, 0, 0, 0, 0, 0,\n",
       "       0, 0, 0, 0, 0, 0, 0, 0, 0, 0, 0, 0, 0, 0, 0, 0, 0, 0, 0, 0, 0, 0,\n",
       "       0, 0, 0, 0, 0, 0, 0, 0, 0, 0, 0, 0, 0, 0, 0, 0, 0, 0, 0, 0])"
      ]
     },
     "execution_count": 8,
     "metadata": {},
     "output_type": "execute_result"
    }
   ],
   "source": [
    "check_pil = Image.open('test_pil.jpg')\n",
    "check_pil.quantization[0] - my_q_table"
   ]
  },
  {
   "cell_type": "markdown",
   "id": "05bc2292",
   "metadata": {
    "hidden": true
   },
   "source": [
    "Read with `jpeglib` and check"
   ]
  },
  {
   "cell_type": "code",
   "execution_count": 9,
   "id": "9208ec48",
   "metadata": {
    "hidden": true
   },
   "outputs": [
    {
     "data": {
      "text/plain": [
       "array([[[0, 0, 0, 0, 0, 0, 0, 0],\n",
       "        [0, 0, 0, 0, 0, 0, 0, 0],\n",
       "        [0, 0, 0, 0, 0, 0, 0, 0],\n",
       "        [0, 0, 0, 0, 0, 0, 0, 0],\n",
       "        [0, 0, 0, 0, 0, 0, 0, 0],\n",
       "        [0, 0, 0, 0, 0, 0, 0, 0],\n",
       "        [0, 0, 0, 0, 0, 0, 0, 0],\n",
       "        [0, 0, 0, 0, 0, 0, 0, 0]]], dtype=int16)"
      ]
     },
     "execution_count": 9,
     "metadata": {},
     "output_type": "execute_result"
    }
   ],
   "source": [
    "check_jlib = jpeglib.read_dct(\"test_pil.jpg\")\n",
    "check_jlib.qt - my_q_table.reshape((8,8))"
   ]
  },
  {
   "cell_type": "markdown",
   "id": "142d6f4e",
   "metadata": {
    "hidden": true
   },
   "source": [
    "Check with `torchjpeg`"
   ]
  },
  {
   "cell_type": "code",
   "execution_count": 10,
   "id": "3152f432",
   "metadata": {
    "hidden": true
   },
   "outputs": [],
   "source": [
    "import torchjpeg.codec\n",
    "dimensions, quantization, Y_coefficients, CbCr_coefficients = torchjpeg.codec.read_coefficients(\"test_pil.jpg\")"
   ]
  },
  {
   "cell_type": "code",
   "execution_count": 11,
   "id": "5b65ae3d",
   "metadata": {
    "hidden": true
   },
   "outputs": [
    {
     "data": {
      "text/plain": [
       "tensor([[[0, 0, 0, 0, 0, 0, 0, 0],\n",
       "         [0, 0, 0, 0, 0, 0, 0, 0],\n",
       "         [0, 0, 0, 0, 0, 0, 0, 0],\n",
       "         [0, 0, 0, 0, 0, 0, 0, 0],\n",
       "         [0, 0, 0, 0, 0, 0, 0, 0],\n",
       "         [0, 0, 0, 0, 0, 0, 0, 0],\n",
       "         [0, 0, 0, 0, 0, 0, 0, 0],\n",
       "         [0, 0, 0, 0, 0, 0, 0, 0]]], dtype=torch.int16)"
      ]
     },
     "execution_count": 11,
     "metadata": {},
     "output_type": "execute_result"
    }
   ],
   "source": [
    "quantization - my_q_table.reshape((8,8))"
   ]
  },
  {
   "cell_type": "markdown",
   "id": "cfd793ff",
   "metadata": {
    "heading_collapsed": true
   },
   "source": [
    "### Test out `crop_leave4`"
   ]
  },
  {
   "cell_type": "code",
   "execution_count": 63,
   "id": "4cd904b5",
   "metadata": {
    "hidden": true
   },
   "outputs": [],
   "source": [
    "def crop_leave4(im):\n",
    "    return im.crop((4, 4, im.size[0]-4, im.size[1]-4))"
   ]
  },
  {
   "cell_type": "code",
   "execution_count": 64,
   "id": "7fe0197c",
   "metadata": {
    "hidden": true
   },
   "outputs": [
    {
     "name": "stdout",
     "output_type": "stream",
     "text": [
      "(12, 16)\n",
      "[[126 126 126 126 126 126 126 126 126 126 126 126 126 126 126 126]\n",
      " [126 126 126 126 126 126 126 126 126 126 126 126 126 126 126 126]\n",
      " [126 126 126 126 126 126 126 126 126 126 126 126 126 126 126 126]\n",
      " [126 126 126 126 126 126 126 126 126 126 126 126 126 126 126 126]\n",
      " [126 126 126 126   0   0   0   0   0   0   0   0 126 126 126 126]\n",
      " [126 126 126 126   0   0   0   0   0   0   0   0 126 126 126 126]\n",
      " [126 126 126 126   0   0   0   0   0   0   0   0 126 126 126 126]\n",
      " [126 126 126 126   0   0   0   0   0   0   0   0 126 126 126 126]\n",
      " [126 126 126 126 126 126 126 126 126 126 126 126 126 126 126 126]\n",
      " [126 126 126 126 126 126 126 126 126 126 126 126 126 126 126 126]\n",
      " [126 126 126 126 126 126 126 126 126 126 126 126 126 126 126 126]\n",
      " [126 126 126 126 126 126 126 126 126 126 126 126 126 126 126 126]]\n"
     ]
    },
    {
     "data": {
      "image/png": "[encoded data removed]",
      "text/plain": [
       "<PIL.Image.Image image mode=L size=16x12>"
      ]
     },
     "metadata": {},
     "output_type": "display_data"
    }
   ],
   "source": [
    "bw_im = np.ones((12,16), dtype=np.uint8) * 126\n",
    "bw_im[4:8,4:12] = 0\n",
    "print(bw_im.shape)\n",
    "print(bw_im)\n",
    "Image.fromarray(bw_im).show()"
   ]
  },
  {
   "cell_type": "code",
   "execution_count": 65,
   "id": "a4044cae",
   "metadata": {
    "hidden": true
   },
   "outputs": [
    {
     "name": "stdout",
     "output_type": "stream",
     "text": [
      "(4, 8)\n",
      "[[0 0 0 0 0 0 0 0]\n",
      " [0 0 0 0 0 0 0 0]\n",
      " [0 0 0 0 0 0 0 0]\n",
      " [0 0 0 0 0 0 0 0]]\n"
     ]
    },
    {
     "data": {
      "image/png": "[encoded data removed]",
      "text/plain": [
       "<PIL.Image.Image image mode=L size=8x4>"
      ]
     },
     "metadata": {},
     "output_type": "display_data"
    }
   ],
   "source": [
    "cropped_bw_im = crop_leave4(Image.fromarray(bw_im))\n",
    "print(np.array(cropped_bw_im).shape)\n",
    "print(np.array(cropped_bw_im))\n",
    "cropped_bw_im.show()"
   ]
  },
  {
   "cell_type": "markdown",
   "id": "e7a9060c",
   "metadata": {
    "heading_collapsed": true
   },
   "source": [
    "### Test out `get_closest_histogram`"
   ]
  },
  {
   "cell_type": "markdown",
   "id": "8aeb02a6",
   "metadata": {
    "hidden": true
   },
   "source": [
    "[Reference for $\\chi^2$ histogram distance](https://stats.stackexchange.com/questions/184101/comparing-two-histograms-using-chi-square-distance)"
   ]
  },
  {
   "cell_type": "code",
   "execution_count": 77,
   "id": "4546a12d",
   "metadata": {
    "hidden": true
   },
   "outputs": [],
   "source": [
    "def chi2_hist_distance(h1, h2):\n",
    "    distance = 0\n",
    "    for b in range(len(h1)):\n",
    "        if h1[b] == 0 and h2[b] == 0:\n",
    "            continue\n",
    "        distance += (h1[b] - h2[b])**2 / (h1[b] + h2[b])\n",
    " \n",
    "    return distance"
   ]
  },
  {
   "cell_type": "code",
   "execution_count": 82,
   "id": "22387b9f",
   "metadata": {
    "hidden": true
   },
   "outputs": [
    {
     "name": "stdout",
     "output_type": "stream",
     "text": [
      "1483.0565804315095\n",
      "1483.0565804315095\n"
     ]
    }
   ],
   "source": [
    "cmp = np.random.randint(h.min(), high=h.max(), size=h.shape)\n",
    "print(chi2_hist_distance(h, cmp))\n",
    "print(chi2_hist_distance(cmp, h))"
   ]
  },
  {
   "cell_type": "code",
   "execution_count": 98,
   "id": "2d591d3d",
   "metadata": {
    "hidden": true
   },
   "outputs": [],
   "source": [
    "def get_closest_histogram(reference, histogram_list):\n",
    "    smallest_dist = np.inf\n",
    "    smallest_idx = -1\n",
    "    closest_hist = None\n",
    "    \n",
    "    for idx, h in enumerate(histogram_list):\n",
    "        dist = chi2_hist_distance(h, reference)\n",
    "        \n",
    "        if dist < smallest_dist:\n",
    "            smallest_dist = dist\n",
    "            smallest_idx = idx\n",
    "            closest_hist = h\n",
    "    \n",
    "    return closest_hist, smallest_idx"
   ]
  },
  {
   "cell_type": "code",
   "execution_count": 99,
   "id": "ded44350",
   "metadata": {
    "hidden": true
   },
   "outputs": [
    {
     "data": {
      "text/plain": [
       "4"
      ]
     },
     "execution_count": 99,
     "metadata": {},
     "output_type": "execute_result"
    }
   ],
   "source": [
    "h[0]"
   ]
  },
  {
   "cell_type": "code",
   "execution_count": 100,
   "id": "6e760ddd",
   "metadata": {
    "hidden": true
   },
   "outputs": [
    {
     "name": "stdout",
     "output_type": "stream",
     "text": [
      "4.0\n"
     ]
    }
   ],
   "source": [
    "cmp2 = np.array(h)\n",
    "cmp2[0] = 0\n",
    "print(chi2_hist_distance(h, cmp2))"
   ]
  },
  {
   "cell_type": "code",
   "execution_count": 103,
   "id": "2ddda5b8",
   "metadata": {
    "hidden": true
   },
   "outputs": [
    {
     "name": "stdout",
     "output_type": "stream",
     "text": [
      "1\n",
      "[0 0 0 0 0 0 0 0 0 0 0 0 0 0 0 0 0 0 0 0 0 0 0 0 0 0 0 0 0 0 0 0 0 0 0 0 0\n",
      " 0 0 0 0 0 0 0 0 0 0 0 0 0 0 0 0 0 0 0 0 0 0 0 0 0 0 0 0 0 0 0 0 0 0 0 0 0\n",
      " 0 0 0 0 0 0 0 0 0 0 0 0 0 0 0 0 0 0 0 0 0 0 0 0 0 0 0]\n"
     ]
    }
   ],
   "source": [
    "closest_h, idx = get_closest_histogram(h, [cmp, cmp2])\n",
    "print(idx)\n",
    "print(closest_h - cmp2)"
   ]
  },
  {
   "cell_type": "markdown",
   "id": "f56ddb8c",
   "metadata": {
    "heading_collapsed": true
   },
   "source": [
    "### Test out writing and saving image to memory instead of disk"
   ]
  },
  {
   "cell_type": "code",
   "execution_count": 259,
   "id": "d6833104",
   "metadata": {
    "hidden": true
   },
   "outputs": [
    {
     "data": {
      "image/png": "[encoded data removed]",
      "text/plain": [
       "<PIL.Image.Image image mode=L size=384x256>"
      ]
     },
     "metadata": {},
     "output_type": "display_data"
    }
   ],
   "source": [
    "import io\n",
    "\n",
    "im = Image.open('test.jpg').convert('L')\n",
    "im.show()"
   ]
  },
  {
   "cell_type": "code",
   "execution_count": 260,
   "id": "faa86cd2",
   "metadata": {
    "hidden": true
   },
   "outputs": [
    {
     "data": {
      "image/png": "[encoded data removed]",
      "text/plain": [
       "<PIL.JpegImagePlugin.JpegImageFile image mode=L size=384x256>"
      ]
     },
     "metadata": {},
     "output_type": "display_data"
    }
   ],
   "source": [
    "buf = io.BytesIO()\n",
    "im.save(buf, format='JPEG')\n",
    "im_grey = Image.open(buf)\n",
    "im_grey.show()"
   ]
  },
  {
   "cell_type": "markdown",
   "id": "ad04bbfe",
   "metadata": {},
   "source": [
    "### Final estimation algorithm"
   ]
  },
  {
   "cell_type": "code",
   "execution_count": 6,
   "id": "c74bac22",
   "metadata": {},
   "outputs": [],
   "source": [
    "import io\n",
    "import jpeglib\n",
    "from PIL import Image\n",
    "\n",
    "def crop_leave4(im):\n",
    "    return im.crop((4, 4, im.size[0]-4, im.size[1]-4))\n",
    "\n",
    "def jpeg_custom_compress(im, q_table):\n",
    "    \"\"\"\n",
    "    Compresses a PIL image `im` using quantization table `q_table` and saves the result\n",
    "    in memory to a buffer.\n",
    "    Args:\n",
    "        im: PIL image.\n",
    "        q_table: A list of 64 integers in normal array order, not zigzag fashion.\n",
    "    Returns:\n",
    "        The buffer where the image is saved\n",
    "    \"\"\"    \n",
    "    # This compression step quantizes the image\n",
    "    buffer = io.BytesIO()\n",
    "    im.save(buffer, format='jpeg', qtables=[q_table], subsampling=0) # no chroma-subsampling\n",
    "    return buffer\n",
    "\n",
    "def chi2_hist_distance(h1, h2):\n",
    "    distance = 0\n",
    "    for b in range(len(h1)):\n",
    "        if h1[b] == 0 and h2[b] == 0:\n",
    "            continue\n",
    "        distance += (h1[b] - h2[b])**2 / (h1[b] + h2[b])\n",
    " \n",
    "    return distance\n",
    "\n",
    "def get_closest_histogram(reference, histogram_list):\n",
    "    smallest_dist = np.inf\n",
    "    smallest_idx = -1\n",
    "    closest_hist = None\n",
    "    \n",
    "    for idx, h in enumerate(histogram_list):\n",
    "        dist = chi2_hist_distance(h, reference)\n",
    "        \n",
    "        if dist < smallest_dist:\n",
    "            smallest_dist = dist\n",
    "            smallest_idx = idx\n",
    "            closest_hist = h\n",
    "    \n",
    "    return closest_hist, smallest_idx\n",
    "\n",
    "def compute_dct_coefficient_histogram(im_path, bin_range=50):\n",
    "    im = jpeglib.read_dct(im_path)\n",
    "    q_table = im.qt[0]  # read the luminance quantization table\n",
    "    dct_coef = im.Y.reshape(-1, 8, 8).transpose(0, 2, 1) * q_table[None,:]  # tranpose because jpeglib reads wrongly\n",
    "    k_factor_list = dct_coef.reshape(-1, 64).transpose()\n",
    "        \n",
    "    histograms = []\n",
    "    bins = []\n",
    "    for k in range(len(k_factor_list)):\n",
    "        # bin_range+2 since right most is excluded, ref: https://stackoverflow.com/questions/9141732/how-does-numpy-histogram-work\n",
    "        h, b = np.histogram(k_factor_list[k], bins=np.arange(-bin_range,bin_range+2))\n",
    "        histograms.append(h)\n",
    "        bins.append(b)\n",
    "\n",
    "    return np.array(histograms), np.array(bins)\n",
    "\n",
    "def estimate_q_table(im_path, n, bin_range):\n",
    "    \"\"\"\n",
    "    Args:\n",
    "        im_path: Path to m-compressed image. Assume image is grayscale only.\n",
    "        n: Greatest value assumed by quantization factors\n",
    "    \"\"\"\n",
    "    # Step 1: Compute reference k DCT histograms for m-compressed image\n",
    "    k_hists_ref, _ = compute_dct_coefficient_histogram(im_path, bin_range=bin_range)\n",
    "    \n",
    "    # Step 2: Extract mth q-table of image\n",
    "    im = Image.open(im_path)\n",
    "    mth_q_table_lumi = im.quantization[0]  # already in flattened 64 integers\n",
    "    \n",
    "    # Step 3: Crop out a patch, leaving 4 pixels on each side to break JPEG block alignment\n",
    "    patch = crop_leave4(im)\n",
    "    \n",
    "    # Step 4: Create n constant matrices and do compression\n",
    "    k_hists_compare = []\n",
    "    for i in range(1, n+1):\n",
    "        # Create constant matrix with element i\n",
    "        # M_i is just a length 64 constant array since jpeg compress takes in a 1d array\n",
    "        M_i = np.full((64), i)\n",
    "        \n",
    "        # Compress patch using M_i\n",
    "        C_p_buffer = jpeg_custom_compress(patch, M_i)\n",
    "        \n",
    "        # Compress again using mth_q_table\n",
    "        C_p = Image.open(C_p_buffer)\n",
    "        C_pp_buffer = jpeg_custom_compress(C_p, mth_q_table_lumi)\n",
    "        \n",
    "        with open(\"C_pp.jpg\", \"wb\") as f:\n",
    "            f.write(C_pp_buffer.getbuffer())\n",
    "        \n",
    "        # Read DCT coefficients of doubly compressed patch and compute histograms\n",
    "        k_hists, _ = compute_dct_coefficient_histogram('C_pp.jpg', bin_range=bin_range)\n",
    "        k_hists_compare.append(k_hists)\n",
    "    \n",
    "    k_hists_compare = np.array(k_hists_compare).transpose(1,0,2)\n",
    "#     print(k_hists_compare.shape)\n",
    "    \n",
    "    # Step 5: Compute closest histogram using chi-square histogram distance\n",
    "    estimation = np.zeros(64)\n",
    "    for i in range(64):\n",
    "        hist, idx = get_closest_histogram(k_hists_ref[i], k_hists_compare[i])\n",
    "        best_n = idx + 1  # since n starts from 1\n",
    "        estimation[i] = best_n\n",
    "    \n",
    "    return estimation.reshape((8,8))"
   ]
  },
  {
   "cell_type": "markdown",
   "id": "f14b8134",
   "metadata": {},
   "source": [
    "### Test individual images"
   ]
  },
  {
   "cell_type": "code",
   "execution_count": 7,
   "id": "561ee9f7",
   "metadata": {},
   "outputs": [
    {
     "data": {
      "image/png": "[encoded data removed]",
      "text/plain": [
       "<PIL.JpegImagePlugin.JpegImageFile image mode=L size=256x170>"
      ]
     },
     "execution_count": 7,
     "metadata": {},
     "output_type": "execute_result"
    }
   ],
   "source": [
    "im_path = 'img_qf_70_90_1.jpg'\n",
    "im = Image.open(im_path)\n",
    "im.thumbnail((256,256))\n",
    "im"
   ]
  },
  {
   "cell_type": "code",
   "execution_count": 9,
   "id": "8177099b",
   "metadata": {},
   "outputs": [
    {
     "name": "stdout",
     "output_type": "stream",
     "text": [
      "Took 65.01344227790833 seconds.\n"
     ]
    },
    {
     "data": {
      "text/plain": [
       "array([[10.,  7.,  6., 10., 14., 24., 29., 67.],\n",
       "       [ 7.,  7.,  8., 11., 16., 35., 32., 38.],\n",
       "       [ 8.,  8., 10., 14., 24., 33., 36., 37.],\n",
       "       [ 8., 10., 13., 17., 28., 70., 32., 48.],\n",
       "       [11., 13., 21., 29., 37., 45.,  1., 29.],\n",
       "       [15., 21., 32., 52., 45., 34.,  5., 40.],\n",
       "       [27., 34., 41., 34.,  1., 10., 10., 29.],\n",
       "       [58., 54., 50., 51., 10., 35.,  9.,  9.]])"
      ]
     },
     "execution_count": 9,
     "metadata": {},
     "output_type": "execute_result"
    }
   ],
   "source": [
    "import time\n",
    "\n",
    "stime = time.time()\n",
    "est = estimate_q_table(im_path, 73, 100)\n",
    "print(f\"Took {time.time() - stime} seconds.\")\n",
    "est"
   ]
  },
  {
   "cell_type": "code",
   "execution_count": 10,
   "id": "b23624db",
   "metadata": {},
   "outputs": [
    {
     "data": {
      "text/plain": [
       "array([[10,  7,  6, 10, 14, 24, 31, 37],\n",
       "       [ 7,  7,  8, 11, 16, 35, 36, 33],\n",
       "       [ 8,  8, 10, 14, 24, 34, 41, 34],\n",
       "       [ 8, 10, 13, 17, 31, 52, 48, 37],\n",
       "       [11, 13, 22, 34, 41, 65, 62, 46],\n",
       "       [14, 21, 33, 38, 49, 62, 68, 55],\n",
       "       [29, 38, 47, 52, 62, 73, 72, 61],\n",
       "       [43, 55, 57, 59, 67, 60, 62, 59]])"
      ]
     },
     "execution_count": 10,
     "metadata": {},
     "output_type": "execute_result"
    }
   ],
   "source": [
    "scale_q_table(q_table_luminance, 70)"
   ]
  },
  {
   "cell_type": "code",
   "execution_count": 12,
   "id": "f5631dbe",
   "metadata": {},
   "outputs": [
    {
     "data": {
      "text/plain": [
       "array([0., 0., 0., 0., 0., 0., 0., 0., 0., 0., 0., 0., 0., 0., 0.])"
      ]
     },
     "execution_count": 12,
     "metadata": {},
     "output_type": "execute_result"
    }
   ],
   "source": [
    "def zigzag_diff_first_n(q1, q2, n):\n",
    "    return q1[zigzag_row_idx[:n], zigzag_col_idx[:n]] - q2[zigzag_row_idx[:n], zigzag_col_idx[:n]]\n",
    "\n",
    "zigzag_diff_first_n(est, scale_q_table(q_table_luminance, 70), 15)"
   ]
  },
  {
   "cell_type": "code",
   "execution_count": null,
   "id": "6a9b2ff0",
   "metadata": {},
   "outputs": [],
   "source": []
  }
 ],
 "metadata": {
  "kernelspec": {
   "display_name": "Python [conda env:jpeg]",
   "language": "python",
   "name": "conda-env-jpeg-py"
  },
  "language_info": {
   "codemirror_mode": {
    "name": "ipython",
    "version": 3
   },
   "file_extension": ".py",
   "mimetype": "text/x-python",
   "name": "python",
   "nbconvert_exporter": "python",
   "pygments_lexer": "ipython3",
   "version": "3.8.13"
  },
  "toc": {
   "base_numbering": 1,
   "nav_menu": {},
   "number_sections": true,
   "sideBar": true,
   "skip_h1_title": true,
   "title_cell": "Table of Contents",
   "title_sidebar": "Contents",
   "toc_cell": false,
   "toc_position": {
    "height": "calc(100% - 180px)",
    "left": "10px",
    "top": "150px",
    "width": "212.4px"
   },
   "toc_section_display": true,
   "toc_window_display": true
  }
 },
 "nbformat": 4,
 "nbformat_minor": 5
}
