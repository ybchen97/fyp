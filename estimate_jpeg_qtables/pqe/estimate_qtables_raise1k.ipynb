{
 "cells": [
  {
   "cell_type": "markdown",
   "id": "4cc0f785",
   "metadata": {},
   "source": [
    "## Introduction\n",
    "- This notebook contains the experiment that evaluates the effectiveness of the PQE experiment on the RAISE-2k dataset.\n",
    "- Each image is JPEG compressed twice with random quality factors in range $[50,95]$ with intervals of $5$. We then estimate the first quantization matrix of the doubly compressed image using our PQE implementation.\n",
    "- Make sure to download the RAISE dataset before running this notebook. The dataset used in this notebook is the RAISE-2k subset."
   ]
  },
  {
   "cell_type": "markdown",
   "id": "45ceadb3",
   "metadata": {},
   "source": [
    "## Imports and settings"
   ]
  },
  {
   "cell_type": "code",
   "execution_count": 1,
   "id": "50c48226",
   "metadata": {},
   "outputs": [],
   "source": [
    "import io\n",
    "import os\n",
    "import sys\n",
    "import time\n",
    "import glob\n",
    "import pickle\n",
    "\n",
    "import numpy as np\n",
    "import pandas as pd\n",
    "import matplotlib.pyplot as plt\n",
    "from PIL import Image\n",
    "import torch\n",
    "import torch.nn.functional as F\n",
    "from torchvision.transforms.functional import to_tensor, to_pil_image\n",
    "import torchjpeg.codec\n",
    "from fast_histogram import histogram1d"
   ]
  },
  {
   "cell_type": "code",
   "execution_count": 144,
   "id": "6d4acf97",
   "metadata": {},
   "outputs": [],
   "source": [
    "sys.path.append('/home/y/yuanbo/fyp/estimate_jpeg')\n",
    "sys.path.append('/home/y/yuanbo/fyp/estimate_jpeg/utils')\n",
    "\n",
    "from utils import *\n",
    "from q_table_estimation_torchjpeg import *"
   ]
  },
  {
   "cell_type": "markdown",
   "id": "fa786172",
   "metadata": {},
   "source": [
    "## Create randomized 1st and 2nd compression dataset\n",
    "\n",
    "Randomized the quality factors chosen within the range of [50-100] with intervals of 5."
   ]
  },
  {
   "cell_type": "code",
   "execution_count": 15,
   "id": "819f429f",
   "metadata": {},
   "outputs": [
    {
     "data": {
      "text/plain": [
       "array([ 50,  55,  60,  65,  70,  75,  80,  85,  90,  95, 100])"
      ]
     },
     "execution_count": 15,
     "metadata": {},
     "output_type": "execute_result"
    }
   ],
   "source": [
    "np.arange(50,105,5)"
   ]
  },
  {
   "cell_type": "code",
   "execution_count": 49,
   "id": "04ad6a14",
   "metadata": {},
   "outputs": [],
   "source": [
    "qf_pairs = np.random.choice(np.arange(50, 105, 5), size=(1999,2))"
   ]
  },
  {
   "cell_type": "code",
   "execution_count": 51,
   "id": "f726a07d",
   "metadata": {},
   "outputs": [
    {
     "name": "stdout",
     "output_type": "stream",
     "text": [
      "QF1 > QF2: 905\n",
      "QF1 < QF2: 916\n",
      "QF1 = QF2: 178\n"
     ]
    }
   ],
   "source": [
    "print(\"QF1 > QF2:\", (qf_pairs[:,0] > qf_pairs[:,1]).sum())\n",
    "print(\"QF1 < QF2:\", (qf_pairs[:,0] < qf_pairs[:,1]).sum())\n",
    "print(\"QF1 = QF2:\", (qf_pairs[:,0] == qf_pairs[:,1]).sum())"
   ]
  },
  {
   "cell_type": "markdown",
   "id": "b3136ca0",
   "metadata": {},
   "source": [
    "Further split quality factors into 3 buckets: low, med, high\n",
    "- Low: 50,  55,  60,  65\n",
    "- Med: 70,  75,  80,  85\n",
    "- High: 90,  95, 100"
   ]
  },
  {
   "cell_type": "code",
   "execution_count": 130,
   "id": "88f1046d",
   "metadata": {
    "collapsed": true
   },
   "outputs": [],
   "source": [
    "# Low-High\n",
    "lh = ((qf_pairs[:,0] <= 65) & (qf_pairs[:,1] >= 90)).sum()\n",
    "\n",
    "# High-Low\n",
    "hl = ((qf_pairs[:,0] >= 90) & (qf_pairs[:,1] <= 65)).sum()\n",
    "\n",
    "# Low-Med\n",
    "lm = ((qf_pairs[:,0] <= 65) & ((qf_pairs[:,1] > 65) & (qf_pairs[:,1] < 90))).sum()\n",
    "\n",
    "# Med-Low\n",
    "ml = (((qf_pairs[:,0] > 65) & (qf_pairs[:,0] < 90)) & (qf_pairs[:,1] <= 65)).sum()\n",
    "\n",
    "# Med-High\n",
    "mh = (((qf_pairs[:,0] > 65) & (qf_pairs[:,0] < 90)) & (qf_pairs[:,1] >= 90)).sum()\n",
    "\n",
    "# High-Med\n",
    "hm = ((qf_pairs[:,0] >= 90) & ((qf_pairs[:,1] > 65) & (qf_pairs[:,1] < 90))).sum()\n",
    "\n",
    "# Low-Low\n",
    "ll = ((qf_pairs[:,0] <= 65) & (qf_pairs[:,1] <= 65)).sum()\n",
    "\n",
    "# Med-Med\n",
    "mm = (((qf_pairs[:,0] > 65) & (qf_pairs[:,0] < 90)) & ((qf_pairs[:,1] > 65) & (qf_pairs[:,1] < 90))).sum()\n",
    "\n",
    "# High-High\n",
    "hh = ((qf_pairs[:,0] >= 90) & (qf_pairs[:,1] >= 90)).sum()"
   ]
  },
  {
   "cell_type": "code",
   "execution_count": 134,
   "id": "ac87cc84",
   "metadata": {
    "scrolled": true
   },
   "outputs": [
    {
     "name": "stdout",
     "output_type": "stream",
     "text": [
      "low-high:  220\n",
      "high-low:  198\n",
      "low-med:  274\n",
      "med-low:  266\n",
      "med-high:  182\n",
      "high-med:  212\n",
      "low-low:  249\n",
      "med-med:  261\n",
      "high-high:  137\n"
     ]
    }
   ],
   "source": [
    "print(\"low-high: \", lh)\n",
    "print(\"high-low: \", hl)\n",
    "print(\"low-med: \", lm)\n",
    "print(\"med-low: \", ml)\n",
    "print(\"med-high: \", mh)\n",
    "print(\"high-med: \", hm)\n",
    "print(\"low-low: \", ll)\n",
    "print(\"med-med: \", mm)\n",
    "print(\"high-high: \", hh)"
   ]
  },
  {
   "cell_type": "code",
   "execution_count": 136,
   "id": "80b9f605",
   "metadata": {},
   "outputs": [],
   "source": [
    "with open('random_qf_pairs.csv', 'w') as f:\n",
    "    f.write('\\n'.join([f\"{qf[0]},{qf[1]}\" for qf in qf_pairs]))"
   ]
  },
  {
   "cell_type": "markdown",
   "id": "4af12957",
   "metadata": {},
   "source": [
    "### Make dataset"
   ]
  },
  {
   "cell_type": "code",
   "execution_count": 138,
   "id": "78a4b819",
   "metadata": {},
   "outputs": [
    {
     "name": "stdout",
     "output_type": "stream",
     "text": [
      "1999\n"
     ]
    }
   ],
   "source": [
    "test_path = glob.glob(\"../raise_1k/*\") + glob.glob(\"../raise_2k/*\")\n",
    "print(len(test_path))"
   ]
  },
  {
   "cell_type": "code",
   "execution_count": null,
   "id": "172e5dc0",
   "metadata": {},
   "outputs": [],
   "source": [
    "df = pd.read_csv(\"random_qf_pairs.csv\", header=None)\n",
    "qf_pairs = list(df.itertuples(index=False, name=None))"
   ]
  },
  {
   "cell_type": "code",
   "execution_count": 139,
   "id": "948b2ec3",
   "metadata": {},
   "outputs": [
    {
     "name": "stdout",
     "output_type": "stream",
     "text": [
      "JPEG Compression randomized quality factors. Create dataset at data_random_qf...\n",
      "Time taken to create dataset of 1999 images: 1778.81 seconds.\n"
     ]
    }
   ],
   "source": [
    "data_folder = f'data_random_qf'\n",
    "os.makedirs(data_folder)\n",
    "\n",
    "qf_img_mapping = {\n",
    "    \"img\": [],\n",
    "    \"qf_1\": [],\n",
    "    \"qf_2\": []\n",
    "}\n",
    "\n",
    "print(f\"JPEG Compression randomized quality factors. Create dataset at {data_folder}...\")\n",
    "start = time.time()\n",
    "for i, p in enumerate(test_path):\n",
    "    qf_1, qf_2 = qf_pairs[i]\n",
    "    q_table_1 = scale_q_table(STANDARD_LUMI_QT, qf_1)\n",
    "    q_table_2 = scale_q_table(STANDARD_LUMI_QT, qf_2)\n",
    "    \n",
    "    name, ext = os.path.splitext(os.path.basename(p))\n",
    "\n",
    "    im = Image.open(p).convert('L')\n",
    "\n",
    "    # first compression\n",
    "    first_buffer = jpeg_compress_to_buffer(im, q_table_1.reshape(-1))\n",
    "    first_im = Image.open(first_buffer)\n",
    "\n",
    "    # second compression\n",
    "    second_buffer = jpeg_compress_to_buffer(first_im, q_table_2.reshape(-1))\n",
    "\n",
    "    with open(f\"{data_folder}/{name}.jpg\", \"wb\") as f:\n",
    "        f.write(second_buffer.getbuffer())\n",
    "    \n",
    "    qf_img_mapping[\"img\"].append(f\"{name}.jpg\")\n",
    "    qf_img_mapping[\"qf_1\"].append(qf_1)\n",
    "    qf_img_mapping[\"qf_2\"].append(qf_2)\n",
    "\n",
    "duration = time.time() - start\n",
    "print(f\"Time taken to create dataset of {len(test_path)} images: {round(duration, 2)} seconds.\")"
   ]
  },
  {
   "cell_type": "code",
   "execution_count": 141,
   "id": "5ccb6952",
   "metadata": {},
   "outputs": [
    {
     "data": {
      "text/html": [
       "<div>\n",
       "<style scoped>\n",
       "    .dataframe tbody tr th:only-of-type {\n",
       "        vertical-align: middle;\n",
       "    }\n",
       "\n",
       "    .dataframe tbody tr th {\n",
       "        vertical-align: top;\n",
       "    }\n",
       "\n",
       "    .dataframe thead th {\n",
       "        text-align: right;\n",
       "    }\n",
       "</style>\n",
       "<table border=\"1\" class=\"dataframe\">\n",
       "  <thead>\n",
       "    <tr style=\"text-align: right;\">\n",
       "      <th></th>\n",
       "      <th>img</th>\n",
       "      <th>qf_1</th>\n",
       "      <th>qf_2</th>\n",
       "    </tr>\n",
       "  </thead>\n",
       "  <tbody>\n",
       "    <tr>\n",
       "      <th>0</th>\n",
       "      <td>r146771d7t.jpg</td>\n",
       "      <td>60</td>\n",
       "      <td>55</td>\n",
       "    </tr>\n",
       "    <tr>\n",
       "      <th>1</th>\n",
       "      <td>r1e3303ebt.jpg</td>\n",
       "      <td>90</td>\n",
       "      <td>50</td>\n",
       "    </tr>\n",
       "    <tr>\n",
       "      <th>2</th>\n",
       "      <td>r1a2095b2t.jpg</td>\n",
       "      <td>50</td>\n",
       "      <td>60</td>\n",
       "    </tr>\n",
       "    <tr>\n",
       "      <th>3</th>\n",
       "      <td>r15dfc1b8t.jpg</td>\n",
       "      <td>100</td>\n",
       "      <td>55</td>\n",
       "    </tr>\n",
       "    <tr>\n",
       "      <th>4</th>\n",
       "      <td>r02897203t.jpg</td>\n",
       "      <td>50</td>\n",
       "      <td>100</td>\n",
       "    </tr>\n",
       "  </tbody>\n",
       "</table>\n",
       "</div>"
      ],
      "text/plain": [
       "              img  qf_1  qf_2\n",
       "0  r146771d7t.jpg    60    55\n",
       "1  r1e3303ebt.jpg    90    50\n",
       "2  r1a2095b2t.jpg    50    60\n",
       "3  r15dfc1b8t.jpg   100    55\n",
       "4  r02897203t.jpg    50   100"
      ]
     },
     "execution_count": 141,
     "metadata": {},
     "output_type": "execute_result"
    }
   ],
   "source": [
    "df = pd.DataFrame(qf_img_mapping)\n",
    "df.head()"
   ]
  },
  {
   "cell_type": "code",
   "execution_count": 142,
   "id": "7c72d410",
   "metadata": {},
   "outputs": [],
   "source": [
    "df.to_csv(\"img_qf_mapping.csv\", index=False)"
   ]
  },
  {
   "cell_type": "markdown",
   "id": "4c2a90ce",
   "metadata": {},
   "source": [
    "### Estimate previous quantization matrix"
   ]
  },
  {
   "cell_type": "code",
   "execution_count": 146,
   "id": "2c09ca20",
   "metadata": {},
   "outputs": [
    {
     "name": "stdout",
     "output_type": "stream",
     "text": [
      "[101/1999] - [2421.1/47918.63s] - [F15 DCT: 100.0% (Acc)]\n",
      "Current dataset metrics - [First 15 DCT: 69.77% (Acc)]\n",
      "[201/1999] - [4759.26/47332.19s] - [F15 DCT: 53.33% (Acc)]\n",
      "Current dataset metrics - [First 15 DCT: 68.52% (Acc)]\n",
      "[301/1999] - [7107.55/47202.66s] - [F15 DCT: 26.67% (Acc)]\n",
      "Current dataset metrics - [First 15 DCT: 66.27% (Acc)]\n",
      "[401/1999] - [9433.63/47027.0s] - [F15 DCT: 100.0% (Acc)]]\n",
      "Current dataset metrics - [First 15 DCT: 65.57% (Acc)]\n",
      "[501/1999] - [12020.35/47961.43s] - [F15 DCT: 93.33% (Acc)]\n",
      "Current dataset metrics - [First 15 DCT: 66.64% (Acc)]\n",
      "[601/1999] - [14589.63/48526.9s] - [F15 DCT: 100.0% (Acc)]]\n",
      "Current dataset metrics - [First 15 DCT: 66.69% (Acc)]\n",
      "[701/1999] - [17031.06/48566.46s] - [F15 DCT: 60.0% (Acc)]]\n",
      "Current dataset metrics - [First 15 DCT: 66.53% (Acc)]\n",
      "[801/1999] - [19478.58/48611.34s] - [F15 DCT: 33.33% (Acc)]\n",
      "Current dataset metrics - [First 15 DCT: 66.51% (Acc)]\n",
      "[901/1999] - [21976.1/48757.18s] - [F15 DCT: 40.0% (Acc)]]]\n",
      "Current dataset metrics - [First 15 DCT: 66.52% (Acc)]\n",
      "[1001/1999] - [24350.72/48628.45s] - [F15 DCT: 93.33% (Acc)]\n",
      "Current dataset metrics - [First 15 DCT: 66.79% (Acc)]\n",
      "[1101/1999] - [26710.4/48495.99s] - [F15 DCT: 20.0% (Acc)])]\n",
      "Current dataset metrics - [First 15 DCT: 66.15% (Acc)]\n",
      "[1201/1999] - [29069.45/48384.54s] - [F15 DCT: 93.33% (Acc)]\n",
      "Current dataset metrics - [First 15 DCT: 65.53% (Acc)]\n",
      "[1301/1999] - [31435.13/48300.41s] - [F15 DCT: 100.0% (Acc)]\n",
      "Current dataset metrics - [First 15 DCT: 65.44% (Acc)]\n",
      "[1401/1999] - [33860.39/48313.3s] - [F15 DCT: 100.0% (Acc)]]\n",
      "Current dataset metrics - [First 15 DCT: 65.35% (Acc)]\n",
      "[1501/1999] - [36197.74/48207.38s] - [F15 DCT: 20.0% (Acc)]]\n",
      "Current dataset metrics - [First 15 DCT: 65.15% (Acc)]\n",
      "[1601/1999] - [38488.28/48056.26s] - [F15 DCT: 20.0% (Acc)]]\n",
      "Current dataset metrics - [First 15 DCT: 64.91% (Acc)]\n",
      "[1701/1999] - [40888.02/48051.24s] - [F15 DCT: 46.67% (Acc)]\n",
      "Current dataset metrics - [First 15 DCT: 64.88% (Acc)]\n",
      "[1801/1999] - [43270.99/48028.15s] - [F15 DCT: 100.0% (Acc)]\n",
      "Current dataset metrics - [First 15 DCT: 65.09% (Acc)]\n",
      "[1901/1999] - [45659.25/48013.07s] - [F15 DCT: 66.67% (Acc)]\n",
      "Current dataset metrics - [First 15 DCT: 65.12% (Acc)]\n",
      "[1999/1999] - [48038.59/48038.59s] - [F15 DCT: 100.0% (Acc)]Total time taken: 48038.59 seconds.\n",
      "Ave time taken per image: 24.03 seconds.\n"
     ]
    }
   ],
   "source": [
    "n = 100\n",
    "bin_range = 100\n",
    "\n",
    "results = {\n",
    "    \"img\": [],\n",
    "    \"qf_1\": [],\n",
    "    \"qf_2\": [],\n",
    "    \"est_q_table\": []\n",
    "}\n",
    "start = time.time()\n",
    "time_taken = 0\n",
    "\n",
    "running_first_15_acc = 0\n",
    "\n",
    "for i in range(len(test_path)):\n",
    "    p = os.path.join(data_folder, qf_img_mapping[\"img\"][i])\n",
    "    res = estimate_q_table(p, n, bin_range)\n",
    "    time_taken = (time.time() - start)\n",
    "\n",
    "    # calculate simple metrics\n",
    "    gt_q_table = scale_q_table(STANDARD_LUMI_QT, qf_img_mapping[\"qf_1\"][i])\n",
    "    diff = res - gt_q_table\n",
    "    first_15_dct = diff[ZIGZAG_ROW_IDX[:15], ZIGZAG_COL_IDX[:15]]\n",
    "    first_15_acc = ((first_15_dct == 0).sum() / len(first_15_dct)) * 100\n",
    "    running_first_15_acc += first_15_acc\n",
    "\n",
    "    # print intermediate results\n",
    "    first_15_results_str = f\"F15 DCT: {round(first_15_acc, 2)}% (Acc)\"\n",
    "    time_str = f\"{round(time_taken, 2)}/{round(time_taken/(i+1)*len(test_path), 2)}s\"\n",
    "    print(f\"\\r[{i+1}/{len(test_path)}] - [{time_str}] - [{first_15_results_str}]\", end=\"\", flush=True)\n",
    "\n",
    "    if i != 0 and i % 100 == 0:\n",
    "        running_first_15_results_str = f\"First 15 DCT: {round(running_first_15_acc / (i+1), 2)}% (Acc)\"\n",
    "        print(f\"\\nCurrent dataset metrics - [{running_first_15_results_str}]\")\n",
    "\n",
    "    results[\"img\"].append(qf_img_mapping[\"img\"][i])\n",
    "    results[\"qf_1\"].append(qf_img_mapping[\"qf_1\"][i])\n",
    "    results[\"qf_2\"].append(qf_img_mapping[\"qf_2\"][i])\n",
    "    results[\"est_q_table\"].append(res)\n",
    "\n",
    "\n",
    "print(f\"Total time taken: {round(time_taken, 2)} seconds.\")\n",
    "print(f\"Ave time taken per image: {round(time_taken / len(test_path), 2)} seconds.\")"
   ]
  },
  {
   "cell_type": "code",
   "execution_count": 147,
   "id": "50e8113a",
   "metadata": {},
   "outputs": [],
   "source": [
    "with open('res_random_qf.pkl', 'wb') as handle:\n",
    "    pickle.dump(results, handle)"
   ]
  }
 ],
 "metadata": {
  "kernelspec": {
   "display_name": "Python [conda env:jpeg]",
   "language": "python",
   "name": "conda-env-jpeg-py"
  },
  "language_info": {
   "codemirror_mode": {
    "name": "ipython",
    "version": 3
   },
   "file_extension": ".py",
   "mimetype": "text/x-python",
   "name": "python",
   "nbconvert_exporter": "python",
   "pygments_lexer": "ipython3",
   "version": "3.8.13"
  },
  "toc": {
   "base_numbering": 1,
   "nav_menu": {},
   "number_sections": true,
   "sideBar": true,
   "skip_h1_title": true,
   "title_cell": "Table of Contents",
   "title_sidebar": "Contents",
   "toc_cell": false,
   "toc_position": {},
   "toc_section_display": true,
   "toc_window_display": true
  }
 },
 "nbformat": 4,
 "nbformat_minor": 5
}
