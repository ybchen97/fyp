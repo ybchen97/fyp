{
 "cells": [
  {
   "cell_type": "markdown",
   "id": "a834e1e8",
   "metadata": {},
   "source": [
    "## Note\n",
    "This notebook implements the previous quantization matrix estimation method using `torchjpeg`. To understand this notebook, go through `estimate_jpeg_qtable.ipynb` notebook first."
   ]
  },
  {
   "cell_type": "markdown",
   "id": "45ceadb3",
   "metadata": {},
   "source": [
    "## Imports and settings"
   ]
  },
  {
   "cell_type": "code",
   "execution_count": 1,
   "id": "50c48226",
   "metadata": {},
   "outputs": [],
   "source": [
    "import numpy as np\n",
    "from PIL import Image\n",
    "import time\n",
    "import io\n",
    "import jpeglib\n",
    "import torchjpeg.codec\n",
    "import torch\n",
    "from torchvision.transforms.functional import to_pil_image, to_tensor\n",
    "from fast_histogram import histogram1d"
   ]
  },
  {
   "cell_type": "code",
   "execution_count": 2,
   "id": "b29d401e",
   "metadata": {},
   "outputs": [],
   "source": [
    "q_table_luminance = np.array([\n",
    "    [16,  11,  10,  16,  24,  40,  51,  61],\n",
    "    [12,  12,  14,  19,  26,  58,  60,  55],\n",
    "    [14,  13,  16,  24,  40,  57,  69,  56],\n",
    "    [14,  17,  22,  29,  51,  87,  80,  62],\n",
    "    [18,  22,  37,  56,  68, 109, 103,  77],\n",
    "    [24,  35,  55,  64,  81, 104, 113,  92],\n",
    "    [49,  64,  78,  87, 103, 121, 120, 101],\n",
    "    [72,  92,  95,  98, 112, 100, 103,  99]\n",
    "])\n",
    "\n",
    "def scale_q_table(q_table, q_factor):\n",
    "    if q_factor <= 0:\n",
    "        q_factor = 1\n",
    "    if q_factor > 100:\n",
    "        q_factor = 100\n",
    "\n",
    "    if q_factor < 50:\n",
    "        scale_factor = 5000 / q_factor\n",
    "    else:\n",
    "        scale_factor = 200 - q_factor * 2\n",
    "    \n",
    "    scaled_table = (q_table * scale_factor + 50) // 100\n",
    "    scaled_table[scaled_table <= 0] = 1  # prevent zero division\n",
    "    return scaled_table\n"
   ]
  },
  {
   "cell_type": "code",
   "execution_count": 3,
   "id": "2fa27d25",
   "metadata": {},
   "outputs": [],
   "source": [
    "# ref: https://github.com/getsanjeev/compression-DCT/blob/master/zigzag.py\n",
    "\n",
    "# Zigzag scan of a matrix\n",
    "# Argument is a two-dimensional matrix of any size,\n",
    "# not strictly a square one.\n",
    "# Function returns a 1-by-(m*n) array,\n",
    "# where m and n are sizes of an input matrix,\n",
    "# consisting of its items scanned by a zigzag method.\n",
    "\n",
    "def zigzag(input):\n",
    "    #initializing the variables\n",
    "    #----------------------------------\n",
    "    h = 0\n",
    "    v = 0\n",
    "\n",
    "    vmin = 0\n",
    "    hmin = 0\n",
    "\n",
    "    vmax = input.shape[0]\n",
    "    hmax = input.shape[1]\n",
    "    \n",
    "    i = 0\n",
    "\n",
    "    output = np.zeros(( vmax * hmax), dtype=int)\n",
    "    #----------------------------------\n",
    "\n",
    "    while ((v < vmax) and (h < hmax)):\n",
    "        \n",
    "        if ((h + v) % 2) == 0:                 # going up\n",
    "            \n",
    "            if (v == vmin):\n",
    "                output[i] = input[v, h]        # if we got to the first line\n",
    "\n",
    "                if (h == hmax):\n",
    "                    v = v + 1\n",
    "                else:\n",
    "                    h = h + 1                        \n",
    "\n",
    "                i = i + 1\n",
    "\n",
    "            elif ((h == hmax -1 ) and (v < vmax)):   # if we got to the last column\n",
    "                output[i] = input[v, h] \n",
    "                v = v + 1\n",
    "                i = i + 1\n",
    "\n",
    "            elif ((v > vmin) and (h < hmax -1 )):    # all other cases\n",
    "                #print(3)\n",
    "                output[i] = input[v, h] \n",
    "                v = v - 1\n",
    "                h = h + 1\n",
    "                i = i + 1\n",
    "        \n",
    "        else:                                    # going down\n",
    "\n",
    "            if ((v == vmax -1) and (h <= hmax -1)):       # if we got to the last line\n",
    "                output[i] = input[v, h] \n",
    "                h = h + 1\n",
    "                i = i + 1\n",
    "        \n",
    "            elif (h == hmin):                  # if we got to the first column\n",
    "                output[i] = input[v, h] \n",
    "\n",
    "                if (v == vmax -1):\n",
    "                    h = h + 1\n",
    "                else:\n",
    "                    v = v + 1\n",
    "\n",
    "                i = i + 1\n",
    "\n",
    "            elif ((v < vmax -1) and (h > hmin)):     # all other cases\n",
    "                output[i] = input[v, h] \n",
    "                v = v + 1\n",
    "                h = h - 1\n",
    "                i = i + 1\n",
    "\n",
    "        if ((v == vmax-1) and (h == hmax-1)):          # bottom right element\n",
    "            output[i] = input[v, h] \n",
    "            break\n",
    "\n",
    "    return output\n",
    "\n",
    "col_idx, row_idx = np.meshgrid(np.arange(8),np.arange(8))\n",
    "zigzag_row_idx = zigzag(row_idx)\n",
    "zigzag_col_idx = zigzag(col_idx)"
   ]
  },
  {
   "cell_type": "markdown",
   "id": "b585ced6",
   "metadata": {},
   "source": [
    "## Estimation algorithm"
   ]
  },
  {
   "cell_type": "markdown",
   "id": "7534b656",
   "metadata": {},
   "source": [
    "### Step by step breakdown\n",
    "\n",
    "If we only consider the luminance channel (grayscale image), the only lossy step of the JPEG compression algorithm is the quantization of DCT coefficients by the quantization table. Hence, instead of actually compressing the image, we can simulate the lossy stage in JPEG compression by directly quantizing the DCT coefficients of the image. Hence, we don't need to save and load the image repeatedly, which removes IO operations and speeds up the algorithm."
   ]
  },
  {
   "cell_type": "markdown",
   "id": "2635d8ce",
   "metadata": {},
   "source": [
    "1. **Get reference DCT coefficient histograms**\n",
    "    1. Read in quantized DCT coefficients directly from file using `torchjpeg.codec.read_coefficients()`.\n",
    "    2. Dequantize the coefficients by multiplying by the m-th quantization table\n",
    "    3. Get histogram of the dequantized coefficients\n",
    "2. **Compression simulation (problematic part)**\n",
    "    1. Cropping image need to break JPEG blocks. Hence, it needs to be done in the spatial domain. PIL read image, then crop.\n",
    "    2. Spatial domain, blockify, level shift, do DCT transform to yield DCT coefficients\n",
    "    3. Simulate compressions with n constant matrices using DCT coefficients\n",
    "        1. Perform quantization with chosen constant quantization table. This procedure is lossy. \n",
    "        2. Dequantize coefficients by multiplying with the same constant quantization table.\n",
    "        3. Repeat steps 2.C.a and 2.C.b with m-th quantization table\n",
    "        4. After the \"simulated\" compressions (steps 2.C.a-c), compute the DCT coefficient histogram.\n",
    "3. **DCT coefficient histogram comparison**\n",
    "\n",
    "Since Step 2 is complex, we will go through this step by step below.\n",
    "\n",
    "Use the same image as above:"
   ]
  },
  {
   "cell_type": "code",
   "execution_count": 4,
   "id": "28abb220",
   "metadata": {
    "scrolled": true
   },
   "outputs": [],
   "source": [
    "img_1_path = 'raise_1k/r000da54ft.TIF'\n",
    "im = Image.open(img_1_path).convert('L')"
   ]
  },
  {
   "cell_type": "markdown",
   "id": "310ff75d",
   "metadata": {},
   "source": [
    "#### Crop image to break JPEG alignment\n",
    "1. *Cropping image need to break JPEG blocks.* Hence, it needs to be done in the spatial domain. PIL read image, then crop."
   ]
  },
  {
   "cell_type": "code",
   "execution_count": 5,
   "id": "2a65cc4d",
   "metadata": {},
   "outputs": [
    {
     "name": "stdout",
     "output_type": "stream",
     "text": [
      "Shape before: (2848, 4288)\n",
      "Shape after:  (2840, 4280)\n"
     ]
    }
   ],
   "source": [
    "def crop_leave4(im):\n",
    "    return im.crop((4, 4, im.size[0]-4, im.size[1]-4))\n",
    "\n",
    "patch = crop_leave4(im)\n",
    "print(f\"Shape before: {np.array(im).shape}\")\n",
    "print(f\"Shape after:  {np.array(patch).shape}\")"
   ]
  },
  {
   "cell_type": "markdown",
   "id": "a63fefa8",
   "metadata": {},
   "source": [
    "#### Blockify pixels, level shift, and do Discrete Cosine Transform to yield DCT coefficients\n",
    "1. ~~Cropping image need to break JPEG blocks. Hence, it needs to be done in the spatial domain. PIL read image, then crop.~~\n",
    "2. *Spatial domain, blockify*\n",
    "\n",
    "Number of blocks is H/8 * W/8"
   ]
  },
  {
   "cell_type": "code",
   "execution_count": 6,
   "id": "94c8b0b2",
   "metadata": {},
   "outputs": [
    {
     "data": {
      "text/plain": [
       "189925.0"
      ]
     },
     "execution_count": 6,
     "metadata": {},
     "output_type": "execute_result"
    }
   ],
   "source": [
    "2840/8 * 4280/8"
   ]
  },
  {
   "cell_type": "code",
   "execution_count": 7,
   "id": "f0d865a5",
   "metadata": {},
   "outputs": [
    {
     "data": {
      "text/plain": [
       "torch.Size([1, 1, 189925, 8, 8])"
      ]
     },
     "execution_count": 7,
     "metadata": {},
     "output_type": "execute_result"
    }
   ],
   "source": [
    "pixels = to_tensor(patch) * 255  # convert to range [0-255]\n",
    "pixel_blocks = torchjpeg.dct.blockify(pixels.unsqueeze(0), 8)\n",
    "pixel_blocks.size()"
   ]
  },
  {
   "cell_type": "markdown",
   "id": "6a6b0404",
   "metadata": {},
   "source": [
    "1. ~~Cropping image need to break JPEG blocks. Hence, it needs to be done in the spatial domain. PIL read image, then crop.~~\n",
    "2. ~~Spatial domain, blockify,~~ *level shift, do DCT transform to yield DCT coefficients*. This step is lossless.\n",
    "\n",
    "Level shift is to subtract 128 from all pixel values according to the specifications in Annex A.3.1 [[ref](https://www.w3.org/Graphics/JPEG/itu-t81.pdf)]."
   ]
  },
  {
   "cell_type": "code",
   "execution_count": 8,
   "id": "f55406a8",
   "metadata": {},
   "outputs": [
    {
     "data": {
      "text/plain": [
       "torch.Size([1, 1, 189925, 8, 8])"
      ]
     },
     "execution_count": 8,
     "metadata": {},
     "output_type": "execute_result"
    }
   ],
   "source": [
    "dct_blocks = torchjpeg.dct.block_dct(pixel_blocks - 128)\n",
    "dct_blocks.size()"
   ]
  },
  {
   "cell_type": "markdown",
   "id": "e6fdeff2",
   "metadata": {},
   "source": [
    "#### Simulate compressions (i.e. quantize and dequantize DCT coefficients)\n",
    "1. ~~Cropping image need to break JPEG blocks. Hence, it needs to be done in the spatial domain. PIL read image, then crop.~~\n",
    "2. ~~Spatial domain, blockify, level shift, do DCT transform to yield DCT coefficients~~\n",
    "3. Simulate compressions with DCT coefficients\n",
    "    1. *Perform quantization with chosen constant quantization table. This procedure is lossy.*\n",
    "    2. *Dequantize coefficients by multiplying with the same constant quantization table.*"
   ]
  },
  {
   "cell_type": "code",
   "execution_count": 9,
   "id": "6be5a59f",
   "metadata": {},
   "outputs": [],
   "source": [
    "constant = 7\n",
    "constant_q_table = torch.ones((8,8)) * constant\n",
    "quantized_dct_blocks = torch.round(dct_blocks / constant_q_table)  # lossy step\n",
    "dequantized_dct_blocks = quantized_dct_blocks * constant_q_table"
   ]
  },
  {
   "cell_type": "markdown",
   "id": "632ee3e7",
   "metadata": {},
   "source": [
    "1. ~~Cropping image need to break JPEG blocks. Hence, it needs to be done in the spatial domain. PIL read image, then crop.~~\n",
    "2. ~~Spatial domain, blockify, level shift, do DCT transform to yield DCT coefficients~~\n",
    "3. Simulate compressions with DCT coefficients\n",
    "    1. ~~Perform quantization with chosen constant quantization table. This procedure is lossy.~~\n",
    "    2. ~~Dequantize coefficients by multiplying with the same constant quantization table.~~\n",
    "    3. *Repeat steps 2.C.a and 2.C.b with m-th quantization table*"
   ]
  },
  {
   "cell_type": "code",
   "execution_count": 10,
   "id": "fb287217",
   "metadata": {},
   "outputs": [],
   "source": [
    "mth_q_table = torch.from_numpy(scale_q_table(q_table_luminance, 75))\n",
    "quantized_dct_blocks = torch.round(dequantized_dct_blocks / mth_q_table)  # lossy step\n",
    "dequantized_dct_blocks = quantized_dct_blocks * mth_q_table"
   ]
  },
  {
   "cell_type": "markdown",
   "id": "b818a89a",
   "metadata": {},
   "source": [
    "#### Compute DCT coefficient histogram using dequantized DCT blocks\n",
    "1. ~~Cropping image need to break JPEG blocks. Hence, it needs to be done in the spatial domain. PIL read image, then crop.~~\n",
    "2. ~~Spatial domain, blockify, level shift, do DCT transform to yield DCT coefficients~~\n",
    "3. ~~Simulate compressions with DCT coefficients~~\n",
    "    1. ~~Perform quantization with chosen constant quantization table. This procedure is lossy.~~\n",
    "    2. ~~Dequantize coefficients by multiplying with the same constant quantization table.~~\n",
    "    3. *Repeat steps 2.C.a and 2.C.b with m-th quantization table*\n",
    "    4. *After the \"simulated\" compressions (steps 2.C.a-b), compute the DCT coefficient histogram.*"
   ]
  },
  {
   "cell_type": "code",
   "execution_count": 11,
   "id": "2443727d",
   "metadata": {},
   "outputs": [
    {
     "data": {
      "text/plain": [
       "torch.Size([1, 1, 189925, 8, 8])"
      ]
     },
     "execution_count": 11,
     "metadata": {},
     "output_type": "execute_result"
    }
   ],
   "source": [
    "dequantized_dct_blocks.size()"
   ]
  },
  {
   "cell_type": "code",
   "execution_count": 12,
   "id": "78090760",
   "metadata": {},
   "outputs": [
    {
     "data": {
      "text/plain": [
       "(64, 189925)"
      ]
     },
     "execution_count": 12,
     "metadata": {},
     "output_type": "execute_result"
    }
   ],
   "source": [
    "np.array(dequantized_dct_blocks.squeeze()).reshape(-1, 64).transpose().shape"
   ]
  },
  {
   "cell_type": "markdown",
   "id": "f41bd4ad",
   "metadata": {},
   "source": [
    "Generate 64 histograms, 1 for each k-factor"
   ]
  },
  {
   "cell_type": "code",
   "execution_count": 13,
   "id": "65fc631d",
   "metadata": {},
   "outputs": [
    {
     "name": "stdout",
     "output_type": "stream",
     "text": [
      "Took 1.7887487411499023 seconds to compute.\n"
     ]
    }
   ],
   "source": [
    "k_factor_list = np.array(dequantized_dct_blocks.squeeze()).reshape(-1, 64).transpose()\n",
    "\n",
    "bin_range = 100\n",
    "histograms = []\n",
    "bins = []\n",
    "stime = time.time()\n",
    "\n",
    "for k in k_factor_list:\n",
    "    # bin_range+2 since right most is excluded, ref: https://stackoverflow.com/questions/9141732/how-does-numpy-histogram-work\n",
    "    h, b = np.histogram(k, bins=np.arange(-bin_range,bin_range+2))\n",
    "    histograms.append(h)\n",
    "    bins.append(b)\n",
    "print(f\"Took {time.time() - stime} seconds to compute.\")"
   ]
  },
  {
   "cell_type": "markdown",
   "id": "70ae7864",
   "metadata": {},
   "source": [
    "#### Side-track to test histogram computation speeds"
   ]
  },
  {
   "cell_type": "markdown",
   "id": "3f193e28",
   "metadata": {},
   "source": [
    "The bottle-neck in the computation is in computing the histograms. The number of datapoints is large (~200k) depending on the image size. Test out speed and correctness of histogram computation using another package [fast-histogram](https://github.com/astrofrog/fast-histogram)."
   ]
  },
  {
   "cell_type": "code",
   "execution_count": 14,
   "id": "5162b19e",
   "metadata": {},
   "outputs": [
    {
     "name": "stdout",
     "output_type": "stream",
     "text": [
      "Took 1.72157883644104 seconds to compute.\n"
     ]
    }
   ],
   "source": [
    "k_factor_list = np.array(dequantized_dct_blocks.squeeze()).reshape(-1, 64).transpose()\n",
    "\n",
    "bin_range = 100\n",
    "histograms = []\n",
    "stime = time.time()\n",
    "\n",
    "for k in k_factor_list:\n",
    "    # bin_range+2 since right most is excluded, ref: https://stackoverflow.com/questions/9141732/how-does-numpy-histogram-work\n",
    "    h, _ = np.histogram(k, bins=np.arange(-bin_range,bin_range+2))\n",
    "    histograms.append(h)\n",
    "print(f\"Took {time.time() - stime} seconds to compute.\")"
   ]
  },
  {
   "cell_type": "code",
   "execution_count": 15,
   "id": "3febd549",
   "metadata": {},
   "outputs": [
    {
     "name": "stdout",
     "output_type": "stream",
     "text": [
      "Took 0.6873688697814941 seconds to compute.\n"
     ]
    }
   ],
   "source": [
    "k_factor_list = np.array(dequantized_dct_blocks.squeeze()).reshape(-1, 64).transpose()\n",
    "\n",
    "bin_range = 100\n",
    "histograms_fast = []\n",
    "stime = time.time()\n",
    "\n",
    "for k in k_factor_list:\n",
    "    h = histogram1d(k, bins=bin_range*2+1, range=(-bin_range,bin_range+1))\n",
    "    histograms_fast.append(h)\n",
    "print(f\"Took {time.time() - stime} seconds to compute.\")"
   ]
  },
  {
   "cell_type": "code",
   "execution_count": 16,
   "id": "860c21ad",
   "metadata": {},
   "outputs": [
    {
     "data": {
      "text/plain": [
       "True"
      ]
     },
     "execution_count": 16,
     "metadata": {},
     "output_type": "execute_result"
    }
   ],
   "source": [
    "np.all((np.array(histograms_fast) - np.array(histograms)) == 0)"
   ]
  },
  {
   "cell_type": "markdown",
   "id": "46b18f61",
   "metadata": {},
   "source": [
    "### Full algorithm"
   ]
  },
  {
   "cell_type": "code",
   "execution_count": 4,
   "id": "4de8cd44",
   "metadata": {},
   "outputs": [],
   "source": [
    "def crop_leave4(im):\n",
    "    return im.crop((4, 4, im.size[0]-4, im.size[1]-4))\n",
    "\n",
    "def chi2_hist_distance(h1, h2):\n",
    "    distance = 0\n",
    "    for b in range(len(h1)):\n",
    "        if h1[b] == 0 and h2[b] == 0:\n",
    "            continue\n",
    "        distance += (h1[b] - h2[b])**2 / (h1[b] + h2[b])\n",
    " \n",
    "    return distance\n",
    "\n",
    "def get_closest_histogram(reference, histogram_list):\n",
    "    smallest_dist = np.inf\n",
    "    smallest_idx = -1\n",
    "    closest_hist = None\n",
    "    \n",
    "    for idx, h in enumerate(histogram_list):\n",
    "        dist = chi2_hist_distance(h, reference)\n",
    "        \n",
    "        if dist < smallest_dist:\n",
    "            smallest_dist = dist\n",
    "            smallest_idx = idx\n",
    "            closest_hist = h\n",
    "    \n",
    "    return closest_hist, smallest_idx\n",
    "\n",
    "def compute_dct_coefficient_histogram(dct_blocks, bin_range=50):\n",
    "    k_factor_list = dct_blocks.reshape(-1, 64).transpose()\n",
    "    \n",
    "    histograms = []\n",
    "    for k in k_factor_list:\n",
    "        h = histogram1d(k, bins=bin_range*2+1, range=(-bin_range,bin_range+1))\n",
    "        histograms.append(h)\n",
    "\n",
    "    return np.array(histograms)\n",
    "\n",
    "def compression_simulation(im, n, mth_q_table, bin_range=100):\n",
    "    \"\"\"\n",
    "    1. Cropping image need to break JPEG blocks. Hence, it needs to be done in the spatial domain. PIL read image, then crop.\n",
    "    2. Spatial domain, blockify, level shift, do DCT transform to yield DCT coefficients\n",
    "    3. Simulate compressions with n constant matrices using DCT coefficients\n",
    "        1. Perform quantization with chosen constant quantization table. This procedure is lossy. \n",
    "        2. Dequantize coefficients by multiplying with the same constant quantization table.\n",
    "        3. Repeat steps 2.C.a and 2.C.b with m-th quantization table\n",
    "        4. After the \"simulated\" compressions (steps 2.C.a-b), compute the DCT coefficient histogram.\n",
    "    \n",
    "    Args:\n",
    "        im: PIL image.\n",
    "        n: Number of constant matrices to try.\n",
    "        mth_q_table: Quantization table used in the m-th compression.\n",
    "    Returns:\n",
    "        List of list of histograms, of shape (64, n, histogram_size). \n",
    "    \"\"\"\n",
    "    ############################################\n",
    "    # Step 1: Crop image to break JPEG block alignment\n",
    "    ############################################\n",
    "    patch = crop_leave4(im)\n",
    "\n",
    "    ############################################\n",
    "    # Step 2: Blockify, level shift and DCT transform\n",
    "    ############################################\n",
    "    pixels = (to_tensor(patch) * 255) - 128  # convert to range [0-255] and level shift\n",
    "    pixel_blocks = torchjpeg.dct.blockify(pixels.unsqueeze(0), 8)\n",
    "    dct_blocks = torchjpeg.dct.block_dct(pixel_blocks)\n",
    "    \n",
    "    ############################################\n",
    "    # Step 3: Create n constant matrices and do compression (quantize and dequantize)\n",
    "    ############################################\n",
    "    k_hists_compare = []\n",
    "    \n",
    "    for i in range(1, n+1):\n",
    "        # Create constant matrix with element i\n",
    "        # M_i is just a length 64 constant array since jpeg compress takes in a 1d array\n",
    "        M_i = torch.ones((8,8)) * i\n",
    "        \n",
    "        ############################################\n",
    "        # Step 3.1 & 3.2: \"Compress\" using M_i\n",
    "        ############################################\n",
    "        quantized_dct_blocks = torch.round(dct_blocks / M_i)  # lossy step\n",
    "        dequantized_dct_blocks = quantized_dct_blocks * M_i\n",
    "        \n",
    "        ############################################\n",
    "        # Step 3.3: \"Compress\" again using mth_q_table\n",
    "        ############################################\n",
    "        quantized_dct_blocks = torch.round(dequantized_dct_blocks / mth_q_table)  # lossy step\n",
    "        dequantized_dct_blocks = quantized_dct_blocks * mth_q_table\n",
    "        \n",
    "        ############################################\n",
    "        # Step 3.4: Compute 64 histograms from dequantized dct coefficients\n",
    "        ############################################\n",
    "        k_hists = compute_dct_coefficient_histogram(np.array(dequantized_dct_blocks.squeeze()), bin_range=bin_range)\n",
    "        k_hists_compare.append(k_hists)\n",
    "        \n",
    "    k_hists_compare = np.array(k_hists_compare).transpose(1,0,2)\n",
    "    return k_hists_compare\n",
    "\n",
    "def estimate_q_table(im_path, n, bin_range):\n",
    "    \"\"\"\n",
    "    Args:\n",
    "        im_path: Path to m-compressed image. Assume image is grayscale only.\n",
    "        n: Greatest value assumed by quantization factors\n",
    "    \"\"\"\n",
    "    # Step 1: Compute reference k DCT histograms for m-compressed image    \n",
    "    _, mth_q_table, quantized_dct_blocks_ref, _ = torchjpeg.codec.read_coefficients(im_path)\n",
    "    dct_blocks_ref = np.array((quantized_dct_blocks_ref * mth_q_table).squeeze()).reshape(-1, 8, 8)\n",
    "    stime = time.time()\n",
    "    k_hists_ref = compute_dct_coefficient_histogram(dct_blocks_ref, bin_range=bin_range)\n",
    "    \n",
    "    # Step 2: Simulate compressions to get k factor histograms\n",
    "    im = Image.open(im_path)\n",
    "    k_hists_compare = compression_simulation(im, n, mth_q_table, bin_range=bin_range)\n",
    "    \n",
    "    # Step 3: Compute closest histogram using chi-square histogram distance\n",
    "    estimation = np.zeros(64)\n",
    "    for i in range(64):\n",
    "        hist, idx = get_closest_histogram(k_hists_ref[i], k_hists_compare[i])\n",
    "        best_n = idx + 1  # since n starts from 1\n",
    "        estimation[i] = best_n\n",
    "    \n",
    "    return estimation.reshape((8,8))"
   ]
  },
  {
   "cell_type": "markdown",
   "id": "cb0d2667",
   "metadata": {},
   "source": [
    "### Test individual images"
   ]
  },
  {
   "cell_type": "code",
   "execution_count": 9,
   "id": "f3fc3842",
   "metadata": {},
   "outputs": [
    {
     "data": {
      "image/png": "[encoded data removed]",
      "text/plain": [
       "<PIL.JpegImagePlugin.JpegImageFile image mode=L size=256x170>"
      ]
     },
     "execution_count": 9,
     "metadata": {},
     "output_type": "execute_result"
    }
   ],
   "source": [
    "im_path = 'img_qf_70_90_1.jpg'\n",
    "im = Image.open(im_path)\n",
    "im.thumbnail((256,256))\n",
    "im"
   ]
  },
  {
   "cell_type": "code",
   "execution_count": 10,
   "id": "d2e76838",
   "metadata": {
    "scrolled": true
   },
   "outputs": [
    {
     "name": "stdout",
     "output_type": "stream",
     "text": [
      "Took 43.656022787094116 seconds.\n"
     ]
    },
    {
     "data": {
      "text/plain": [
       "array([[10.,  7.,  6., 10., 14., 24., 28., 68.],\n",
       "       [ 7.,  7.,  8., 11., 16., 35., 31., 62.],\n",
       "       [ 8.,  8., 10., 14., 24., 33., 36., 37.],\n",
       "       [ 8., 10., 13., 17., 28., 70., 32., 48.],\n",
       "       [11., 13., 21., 29., 36., 45.,  1., 29.],\n",
       "       [14., 21., 32., 51., 45., 33.,  5., 40.],\n",
       "       [27., 33., 41., 34.,  1.,  6.,  6., 10.],\n",
       "       [58., 54., 50., 51., 10., 35.,  5.,  9.]])"
      ]
     },
     "execution_count": 10,
     "metadata": {},
     "output_type": "execute_result"
    }
   ],
   "source": [
    "stime = time.time()\n",
    "est = estimate_q_table(im_path, 73, 100)\n",
    "print(f\"Took {time.time() - stime} seconds.\")\n",
    "est"
   ]
  },
  {
   "cell_type": "code",
   "execution_count": 11,
   "id": "759d6439",
   "metadata": {
    "scrolled": true
   },
   "outputs": [
    {
     "data": {
      "text/plain": [
       "array([[10,  7,  6, 10, 14, 24, 31, 37],\n",
       "       [ 7,  7,  8, 11, 16, 35, 36, 33],\n",
       "       [ 8,  8, 10, 14, 24, 34, 41, 34],\n",
       "       [ 8, 10, 13, 17, 31, 52, 48, 37],\n",
       "       [11, 13, 22, 34, 41, 65, 62, 46],\n",
       "       [14, 21, 33, 38, 49, 62, 68, 55],\n",
       "       [29, 38, 47, 52, 62, 73, 72, 61],\n",
       "       [43, 55, 57, 59, 67, 60, 62, 59]])"
      ]
     },
     "execution_count": 11,
     "metadata": {},
     "output_type": "execute_result"
    }
   ],
   "source": [
    "scale_q_table(q_table_luminance, 70)"
   ]
  },
  {
   "cell_type": "code",
   "execution_count": 13,
   "id": "6e71cbe6",
   "metadata": {},
   "outputs": [
    {
     "data": {
      "text/plain": [
       "array([0., 0., 0., 0., 0., 0., 0., 0., 0., 0., 0., 0., 0., 0., 0.])"
      ]
     },
     "execution_count": 13,
     "metadata": {},
     "output_type": "execute_result"
    }
   ],
   "source": [
    "def zigzag_diff_first_n(q1, q2, n):\n",
    "    return q1[zigzag_row_idx[:n], zigzag_col_idx[:n]] - q2[zigzag_row_idx[:n], zigzag_col_idx[:n]]\n",
    "\n",
    "zigzag_diff_first_n(est, scale_q_table(q_table_luminance, 70), 15)"
   ]
  },
  {
   "cell_type": "code",
   "execution_count": null,
   "id": "a4716d53",
   "metadata": {},
   "outputs": [],
   "source": []
  }
 ],
 "metadata": {
  "kernelspec": {
   "display_name": "Python [conda env:jpeg]",
   "language": "python",
   "name": "conda-env-jpeg-py"
  },
  "language_info": {
   "codemirror_mode": {
    "name": "ipython",
    "version": 3
   },
   "file_extension": ".py",
   "mimetype": "text/x-python",
   "name": "python",
   "nbconvert_exporter": "python",
   "pygments_lexer": "ipython3",
   "version": "3.8.13"
  },
  "toc": {
   "base_numbering": 1,
   "nav_menu": {},
   "number_sections": true,
   "sideBar": true,
   "skip_h1_title": true,
   "title_cell": "Table of Contents",
   "title_sidebar": "Contents",
   "toc_cell": false,
   "toc_position": {},
   "toc_section_display": true,
   "toc_window_display": true
  }
 },
 "nbformat": 4,
 "nbformat_minor": 5
}
