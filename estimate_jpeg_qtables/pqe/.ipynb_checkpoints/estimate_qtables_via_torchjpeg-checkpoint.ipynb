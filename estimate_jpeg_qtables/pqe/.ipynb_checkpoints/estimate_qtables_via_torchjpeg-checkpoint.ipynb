{
 "cells": [
  {
   "cell_type": "markdown",
   "id": "45ceadb3",
   "metadata": {},
   "source": [
    "## Imports and settings"
   ]
  },
  {
   "cell_type": "code",
   "execution_count": 1,
   "id": "50c48226",
   "metadata": {},
   "outputs": [],
   "source": [
    "import numpy as np\n",
    "from PIL import Image\n",
    "import time\n",
    "import io\n",
    "import jpeglib\n",
    "import torchjpeg.codec\n",
    "import torch\n",
    "from torchvision.transforms.functional import to_pil_image, to_tensor\n",
    "from fast_histogram import histogram1d"
   ]
  },
  {
   "cell_type": "code",
   "execution_count": 2,
   "id": "b29d401e",
   "metadata": {},
   "outputs": [],
   "source": [
    "q_table_luminance = np.array([\n",
    "    [16,  11,  10,  16,  24,  40,  51,  61],\n",
    "    [12,  12,  14,  19,  26,  58,  60,  55],\n",
    "    [14,  13,  16,  24,  40,  57,  69,  56],\n",
    "    [14,  17,  22,  29,  51,  87,  80,  62],\n",
    "    [18,  22,  37,  56,  68, 109, 103,  77],\n",
    "    [24,  35,  55,  64,  81, 104, 113,  92],\n",
    "    [49,  64,  78,  87, 103, 121, 120, 101],\n",
    "    [72,  92,  95,  98, 112, 100, 103,  99]\n",
    "])\n",
    "\n",
    "def scale_q_table(q_table, q_factor):\n",
    "    if q_factor <= 0:\n",
    "        q_factor = 1\n",
    "    if q_factor > 100:\n",
    "        q_factor = 100\n",
    "\n",
    "    if q_factor < 50:\n",
    "        scale_factor = 5000 / q_factor\n",
    "    else:\n",
    "        scale_factor = 200 - q_factor * 2\n",
    "    \n",
    "    scaled_table = (q_table * scale_factor + 50) // 100\n",
    "    scaled_table[scaled_table <= 0] = 1  # prevent zero division\n",
    "    return scaled_table\n"
   ]
  },
  {
   "cell_type": "code",
   "execution_count": 3,
   "id": "2fa27d25",
   "metadata": {},
   "outputs": [],
   "source": [
    "# ref: https://github.com/getsanjeev/compression-DCT/blob/master/zigzag.py\n",
    "\n",
    "# Zigzag scan of a matrix\n",
    "# Argument is a two-dimensional matrix of any size,\n",
    "# not strictly a square one.\n",
    "# Function returns a 1-by-(m*n) array,\n",
    "# where m and n are sizes of an input matrix,\n",
    "# consisting of its items scanned by a zigzag method.\n",
    "\n",
    "def zigzag(input):\n",
    "    #initializing the variables\n",
    "    #----------------------------------\n",
    "    h = 0\n",
    "    v = 0\n",
    "\n",
    "    vmin = 0\n",
    "    hmin = 0\n",
    "\n",
    "    vmax = input.shape[0]\n",
    "    hmax = input.shape[1]\n",
    "    \n",
    "    i = 0\n",
    "\n",
    "    output = np.zeros(( vmax * hmax), dtype=int)\n",
    "    #----------------------------------\n",
    "\n",
    "    while ((v < vmax) and (h < hmax)):\n",
    "        \n",
    "        if ((h + v) % 2) == 0:                 # going up\n",
    "            \n",
    "            if (v == vmin):\n",
    "                output[i] = input[v, h]        # if we got to the first line\n",
    "\n",
    "                if (h == hmax):\n",
    "                    v = v + 1\n",
    "                else:\n",
    "                    h = h + 1                        \n",
    "\n",
    "                i = i + 1\n",
    "\n",
    "            elif ((h == hmax -1 ) and (v < vmax)):   # if we got to the last column\n",
    "                output[i] = input[v, h] \n",
    "                v = v + 1\n",
    "                i = i + 1\n",
    "\n",
    "            elif ((v > vmin) and (h < hmax -1 )):    # all other cases\n",
    "                #print(3)\n",
    "                output[i] = input[v, h] \n",
    "                v = v - 1\n",
    "                h = h + 1\n",
    "                i = i + 1\n",
    "        \n",
    "        else:                                    # going down\n",
    "\n",
    "            if ((v == vmax -1) and (h <= hmax -1)):       # if we got to the last line\n",
    "                output[i] = input[v, h] \n",
    "                h = h + 1\n",
    "                i = i + 1\n",
    "        \n",
    "            elif (h == hmin):                  # if we got to the first column\n",
    "                output[i] = input[v, h] \n",
    "\n",
    "                if (v == vmax -1):\n",
    "                    h = h + 1\n",
    "                else:\n",
    "                    v = v + 1\n",
    "\n",
    "                i = i + 1\n",
    "\n",
    "            elif ((v < vmax -1) and (h > hmin)):     # all other cases\n",
    "                output[i] = input[v, h] \n",
    "                v = v + 1\n",
    "                h = h - 1\n",
    "                i = i + 1\n",
    "\n",
    "        if ((v == vmax-1) and (h == hmax-1)):          # bottom right element\n",
    "            output[i] = input[v, h] \n",
    "            break\n",
    "\n",
    "    return output\n",
    "\n",
    "col_idx, row_idx = np.meshgrid(np.arange(8),np.arange(8))\n",
    "zigzag_row_idx = zigzag(row_idx)\n",
    "zigzag_col_idx = zigzag(col_idx)"
   ]
  },
  {
   "cell_type": "markdown",
   "id": "b585ced6",
   "metadata": {},
   "source": [
    "## Estimation algorithm"
   ]
  },
  {
   "cell_type": "markdown",
   "id": "7534b656",
   "metadata": {},
   "source": [
    "### Step by step breakdown\n",
    "\n",
    "If we only consider the luminance channel (grayscale image), the only lossy step of the JPEG compression algorithm is the quantization of DCT coefficients by the quantization table. Hence, instead of actually compressing the image, we can simulate the lossy stage in JPEG compression by directly quantizing the DCT coefficients of the image. Hence, we don't need to save and load the image repeatedly, which removes IO operations and speeds up the algorithm."
   ]
  },
  {
   "cell_type": "markdown",
   "id": "2635d8ce",
   "metadata": {},
   "source": [
    "1. **Get reference DCT coefficient histograms**\n",
    "    1. Read in quantized DCT coefficients directly from file using `torchjpeg.codec.read_coefficients()`.\n",
    "    2. Dequantize the coefficients by multiplying by the m-th quantization table\n",
    "    3. Get histogram of the dequantized coefficients\n",
    "2. **Compression simulation (problematic part)**\n",
    "    1. Cropping image need to break JPEG blocks. Hence, it needs to be done in the spatial domain. PIL read image, then crop.\n",
    "    2. Spatial domain, blockify, level shift, do DCT transform to yield DCT coefficients\n",
    "    3. Simulate compressions with n constant matrices using DCT coefficients\n",
    "        1. Perform quantization with chosen constant quantization table. This procedure is lossy. \n",
    "        2. Dequantize coefficients by multiplying with the same constant quantization table.\n",
    "        3. Repeat steps 2.C.a and 2.C.b with m-th quantization table\n",
    "        4. After the \"simulated\" compressions (steps 2.C.a-c), compute the DCT coefficient histogram.\n",
    "3. **DCT coefficient histogram comparison**\n",
    "\n",
    "Since Step 2 is complex, we will go through this step by step below.\n",
    "\n",
    "Use the same image as above:"
   ]
  },
  {
   "cell_type": "code",
   "execution_count": 4,
   "id": "28abb220",
   "metadata": {
    "scrolled": true
   },
   "outputs": [],
   "source": [
    "img_1_path = 'raise_1k/r000da54ft.TIF'\n",
    "im = Image.open(img_1_path).convert('L')"
   ]
  },
  {
   "cell_type": "markdown",
   "id": "310ff75d",
   "metadata": {},
   "source": [
    "#### Crop image to break JPEG alignment\n",
    "1. *Cropping image need to break JPEG blocks.* Hence, it needs to be done in the spatial domain. PIL read image, then crop."
   ]
  },
  {
   "cell_type": "code",
   "execution_count": 5,
   "id": "2a65cc4d",
   "metadata": {},
   "outputs": [
    {
     "name": "stdout",
     "output_type": "stream",
     "text": [
      "Shape before: (2848, 4288)\n",
      "Shape after:  (2840, 4280)\n"
     ]
    }
   ],
   "source": [
    "def crop_leave4(im):\n",
    "    return im.crop((4, 4, im.size[0]-4, im.size[1]-4))\n",
    "\n",
    "patch = crop_leave4(im)\n",
    "print(f\"Shape before: {np.array(im).shape}\")\n",
    "print(f\"Shape after:  {np.array(patch).shape}\")"
   ]
  },
  {
   "cell_type": "markdown",
   "id": "a63fefa8",
   "metadata": {},
   "source": [
    "#### Blockify pixels, level shift, and do Discrete Cosine Transform to yield DCT coefficients\n",
    "1. ~~Cropping image need to break JPEG blocks. Hence, it needs to be done in the spatial domain. PIL read image, then crop.~~\n",
    "2. *Spatial domain, blockify*\n",
    "\n",
    "Number of blocks is H/8 * W/8"
   ]
  },
  {
   "cell_type": "code",
   "execution_count": 6,
   "id": "94c8b0b2",
   "metadata": {},
   "outputs": [
    {
     "data": {
      "text/plain": [
       "189925.0"
      ]
     },
     "execution_count": 6,
     "metadata": {},
     "output_type": "execute_result"
    }
   ],
   "source": [
    "2840/8 * 4280/8"
   ]
  },
  {
   "cell_type": "code",
   "execution_count": 7,
   "id": "f0d865a5",
   "metadata": {},
   "outputs": [
    {
     "data": {
      "text/plain": [
       "torch.Size([1, 1, 189925, 8, 8])"
      ]
     },
     "execution_count": 7,
     "metadata": {},
     "output_type": "execute_result"
    }
   ],
   "source": [
    "pixels = to_tensor(patch) * 255  # convert to range [0-255]\n",
    "pixel_blocks = torchjpeg.dct.blockify(pixels.unsqueeze(0), 8)\n",
    "pixel_blocks.size()"
   ]
  },
  {
   "cell_type": "markdown",
   "id": "6a6b0404",
   "metadata": {},
   "source": [
    "1. ~~Cropping image need to break JPEG blocks. Hence, it needs to be done in the spatial domain. PIL read image, then crop.~~\n",
    "2. ~~Spatial domain, blockify,~~ *level shift, do DCT transform to yield DCT coefficients*. This step is lossless.\n",
    "\n",
    "Level shift is to subtract 128 from all pixel values according to the specifications in Annex A.3.1 [[ref](https://www.w3.org/Graphics/JPEG/itu-t81.pdf)]."
   ]
  },
  {
   "cell_type": "code",
   "execution_count": 8,
   "id": "f55406a8",
   "metadata": {},
   "outputs": [
    {
     "data": {
      "text/plain": [
       "torch.Size([1, 1, 189925, 8, 8])"
      ]
     },
     "execution_count": 8,
     "metadata": {},
     "output_type": "execute_result"
    }
   ],
   "source": [
    "dct_blocks = torchjpeg.dct.block_dct(pixel_blocks - 128)\n",
    "dct_blocks.size()"
   ]
  },
  {
   "cell_type": "markdown",
   "id": "e6fdeff2",
   "metadata": {},
   "source": [
    "#### Simulate compressions (i.e. quantize and dequantize DCT coefficients)\n",
    "1. ~~Cropping image need to break JPEG blocks. Hence, it needs to be done in the spatial domain. PIL read image, then crop.~~\n",
    "2. ~~Spatial domain, blockify, level shift, do DCT transform to yield DCT coefficients~~\n",
    "3. Simulate compressions with DCT coefficients\n",
    "    1. *Perform quantization with chosen constant quantization table. This procedure is lossy.*\n",
    "    2. *Dequantize coefficients by multiplying with the same constant quantization table.*"
   ]
  },
  {
   "cell_type": "code",
   "execution_count": 9,
   "id": "6be5a59f",
   "metadata": {},
   "outputs": [],
   "source": [
    "constant = 7\n",
    "constant_q_table = torch.ones((8,8)) * constant\n",
    "quantized_dct_blocks = torch.round(dct_blocks / constant_q_table)  # lossy step\n",
    "dequantized_dct_blocks = quantized_dct_blocks * constant_q_table"
   ]
  },
  {
   "cell_type": "markdown",
   "id": "632ee3e7",
   "metadata": {},
   "source": [
    "1. ~~Cropping image need to break JPEG blocks. Hence, it needs to be done in the spatial domain. PIL read image, then crop.~~\n",
    "2. ~~Spatial domain, blockify, level shift, do DCT transform to yield DCT coefficients~~\n",
    "3. Simulate compressions with DCT coefficients\n",
    "    1. ~~Perform quantization with chosen constant quantization table. This procedure is lossy.~~\n",
    "    2. ~~Dequantize coefficients by multiplying with the same constant quantization table.~~\n",
    "    3. *Repeat steps 2.C.a and 2.C.b with m-th quantization table*"
   ]
  },
  {
   "cell_type": "code",
   "execution_count": 10,
   "id": "fb287217",
   "metadata": {},
   "outputs": [],
   "source": [
    "mth_q_table = torch.from_numpy(scale_q_table(q_table_luminance, 75))\n",
    "quantized_dct_blocks = torch.round(dequantized_dct_blocks / mth_q_table)  # lossy step\n",
    "dequantized_dct_blocks = quantized_dct_blocks * mth_q_table"
   ]
  },
  {
   "cell_type": "markdown",
   "id": "b818a89a",
   "metadata": {},
   "source": [
    "#### Compute DCT coefficient histogram using dequantized DCT blocks\n",
    "1. ~~Cropping image need to break JPEG blocks. Hence, it needs to be done in the spatial domain. PIL read image, then crop.~~\n",
    "2. ~~Spatial domain, blockify, level shift, do DCT transform to yield DCT coefficients~~\n",
    "3. ~~Simulate compressions with DCT coefficients~~\n",
    "    1. ~~Perform quantization with chosen constant quantization table. This procedure is lossy.~~\n",
    "    2. ~~Dequantize coefficients by multiplying with the same constant quantization table.~~\n",
    "    3. *Repeat steps 2.C.a and 2.C.b with m-th quantization table*\n",
    "    4. *After the \"simulated\" compressions (steps 2.C.a-b), compute the DCT coefficient histogram.*"
   ]
  },
  {
   "cell_type": "code",
   "execution_count": 11,
   "id": "2443727d",
   "metadata": {},
   "outputs": [
    {
     "data": {
      "text/plain": [
       "torch.Size([1, 1, 189925, 8, 8])"
      ]
     },
     "execution_count": 11,
     "metadata": {},
     "output_type": "execute_result"
    }
   ],
   "source": [
    "dequantized_dct_blocks.size()"
   ]
  },
  {
   "cell_type": "code",
   "execution_count": 12,
   "id": "78090760",
   "metadata": {},
   "outputs": [
    {
     "data": {
      "text/plain": [
       "(64, 189925)"
      ]
     },
     "execution_count": 12,
     "metadata": {},
     "output_type": "execute_result"
    }
   ],
   "source": [
    "np.array(dequantized_dct_blocks.squeeze()).reshape(-1, 64).transpose().shape"
   ]
  },
  {
   "cell_type": "markdown",
   "id": "f41bd4ad",
   "metadata": {},
   "source": [
    "Generate 64 histograms, 1 for each k-factor"
   ]
  },
  {
   "cell_type": "code",
   "execution_count": 13,
   "id": "65fc631d",
   "metadata": {},
   "outputs": [
    {
     "name": "stdout",
     "output_type": "stream",
     "text": [
      "Took 1.7887487411499023 seconds to compute.\n"
     ]
    }
   ],
   "source": [
    "k_factor_list = np.array(dequantized_dct_blocks.squeeze()).reshape(-1, 64).transpose()\n",
    "\n",
    "bin_range = 100\n",
    "histograms = []\n",
    "bins = []\n",
    "stime = time.time()\n",
    "\n",
    "for k in k_factor_list:\n",
    "    # bin_range+2 since right most is excluded, ref: https://stackoverflow.com/questions/9141732/how-does-numpy-histogram-work\n",
    "    h, b = np.histogram(k, bins=np.arange(-bin_range,bin_range+2))\n",
    "    histograms.append(h)\n",
    "    bins.append(b)\n",
    "print(f\"Took {time.time() - stime} seconds to compute.\")"
   ]
  },
  {
   "cell_type": "markdown",
   "id": "70ae7864",
   "metadata": {},
   "source": [
    "#### Side-track to test histogram computation speeds"
   ]
  },
  {
   "cell_type": "markdown",
   "id": "3f193e28",
   "metadata": {},
   "source": [
    "The bottle-neck in the computation is in computing the histograms. The number of datapoints is large (~200k) depending on the image size. Test out speed and correctness of histogram computation using another package [fast-histogram](https://github.com/astrofrog/fast-histogram)."
   ]
  },
  {
   "cell_type": "code",
   "execution_count": 14,
   "id": "5162b19e",
   "metadata": {},
   "outputs": [
    {
     "name": "stdout",
     "output_type": "stream",
     "text": [
      "Took 1.72157883644104 seconds to compute.\n"
     ]
    }
   ],
   "source": [
    "k_factor_list = np.array(dequantized_dct_blocks.squeeze()).reshape(-1, 64).transpose()\n",
    "\n",
    "bin_range = 100\n",
    "histograms = []\n",
    "stime = time.time()\n",
    "\n",
    "for k in k_factor_list:\n",
    "    # bin_range+2 since right most is excluded, ref: https://stackoverflow.com/questions/9141732/how-does-numpy-histogram-work\n",
    "    h, _ = np.histogram(k, bins=np.arange(-bin_range,bin_range+2))\n",
    "    histograms.append(h)\n",
    "print(f\"Took {time.time() - stime} seconds to compute.\")"
   ]
  },
  {
   "cell_type": "code",
   "execution_count": 15,
   "id": "3febd549",
   "metadata": {},
   "outputs": [
    {
     "name": "stdout",
     "output_type": "stream",
     "text": [
      "Took 0.6873688697814941 seconds to compute.\n"
     ]
    }
   ],
   "source": [
    "k_factor_list = np.array(dequantized_dct_blocks.squeeze()).reshape(-1, 64).transpose()\n",
    "\n",
    "bin_range = 100\n",
    "histograms_fast = []\n",
    "stime = time.time()\n",
    "\n",
    "for k in k_factor_list:\n",
    "    h = histogram1d(k, bins=bin_range*2+1, range=(-bin_range,bin_range+1))\n",
    "    histograms_fast.append(h)\n",
    "print(f\"Took {time.time() - stime} seconds to compute.\")"
   ]
  },
  {
   "cell_type": "code",
   "execution_count": 16,
   "id": "860c21ad",
   "metadata": {},
   "outputs": [
    {
     "data": {
      "text/plain": [
       "True"
      ]
     },
     "execution_count": 16,
     "metadata": {},
     "output_type": "execute_result"
    }
   ],
   "source": [
    "np.all((np.array(histograms_fast) - np.array(histograms)) == 0)"
   ]
  },
  {
   "cell_type": "markdown",
   "id": "46b18f61",
   "metadata": {},
   "source": [
    "### Full algorithm"
   ]
  },
  {
   "cell_type": "code",
   "execution_count": 17,
   "id": "4de8cd44",
   "metadata": {},
   "outputs": [],
   "source": [
    "def crop64(im):\n",
    "    pass\n",
    "\n",
    "def crop_leave4(im):\n",
    "    return im.crop((4, 4, im.size[0]-4, im.size[1]-4))\n",
    "\n",
    "def chi2_hist_distance(h1, h2):\n",
    "    distance = 0\n",
    "    for b in range(len(h1)):\n",
    "        if h1[b] == 0 and h2[b] == 0:\n",
    "            continue\n",
    "        distance += (h1[b] - h2[b])**2 / (h1[b] + h2[b])\n",
    " \n",
    "    return distance\n",
    "\n",
    "def get_closest_histogram(reference, histogram_list):\n",
    "    smallest_dist = np.inf\n",
    "    smallest_idx = -1\n",
    "    closest_hist = None\n",
    "    \n",
    "    for idx, h in enumerate(histogram_list):\n",
    "        dist = chi2_hist_distance(h, reference)\n",
    "        \n",
    "        if dist < smallest_dist:\n",
    "            smallest_dist = dist\n",
    "            smallest_idx = idx\n",
    "            closest_hist = h\n",
    "    \n",
    "    return closest_hist, smallest_idx\n",
    "\n",
    "def compute_dct_coefficient_histogram(dct_blocks, bin_range=50):\n",
    "    k_factor_list = dct_blocks.reshape(-1, 64).transpose()\n",
    "    \n",
    "    histograms = []\n",
    "    for k in k_factor_list:\n",
    "        h = histogram1d(k, bins=bin_range*2+1, range=(-bin_range,bin_range+1))\n",
    "        histograms.append(h)\n",
    "\n",
    "    return np.array(histograms)\n",
    "\n",
    "def compression_simulation(im, n, mth_q_table, bin_range=100):\n",
    "    \"\"\"\n",
    "    1. Cropping image need to break JPEG blocks. Hence, it needs to be done in the spatial domain. PIL read image, then crop.\n",
    "    2. Spatial domain, blockify, level shift, do DCT transform to yield DCT coefficients\n",
    "    3. Simulate compressions with n constant matrices using DCT coefficients\n",
    "        1. Perform quantization with chosen constant quantization table. This procedure is lossy. \n",
    "        2. Dequantize coefficients by multiplying with the same constant quantization table.\n",
    "        3. Repeat steps 2.C.a and 2.C.b with m-th quantization table\n",
    "        4. After the \"simulated\" compressions (steps 2.C.a-b), compute the DCT coefficient histogram.\n",
    "    \n",
    "    Args:\n",
    "        im: PIL image.\n",
    "        n: Number of constant matrices to try.\n",
    "        mth_q_table: Quantization table used in the m-th compression.\n",
    "    Returns:\n",
    "        List of list of histograms, of shape (64, n, histogram_size). \n",
    "    \"\"\"\n",
    "    ############################################\n",
    "    # Step 1: Crop image to break JPEG block alignment\n",
    "    ############################################\n",
    "    patch = crop_leave4(im)\n",
    "\n",
    "    ############################################\n",
    "    # Step 2: Blockify, level shift and DCT transform\n",
    "    ############################################\n",
    "    pixels = (to_tensor(patch) * 255) - 128  # convert to range [0-255] and level shift\n",
    "    pixel_blocks = torchjpeg.dct.blockify(pixels.unsqueeze(0), 8)\n",
    "    dct_blocks = torchjpeg.dct.block_dct(pixel_blocks)\n",
    "    \n",
    "    ############################################\n",
    "    # Step 3: Create n constant matrices and do compression (quantize and dequantize)\n",
    "    ############################################\n",
    "    k_hists_compare = []\n",
    "    \n",
    "    for i in range(1, n+1):\n",
    "        # Create constant matrix with element i\n",
    "        # M_i is just a length 64 constant array since jpeg compress takes in a 1d array\n",
    "        M_i = torch.ones((8,8)) * i\n",
    "        \n",
    "        ############################################\n",
    "        # Step 3.1 & 3.2: \"Compress\" using M_i\n",
    "        ############################################\n",
    "        quantized_dct_blocks = torch.round(dct_blocks / M_i)  # lossy step\n",
    "        dequantized_dct_blocks = quantized_dct_blocks * M_i\n",
    "        \n",
    "        ############################################\n",
    "        # Step 3.3: \"Compress\" again using mth_q_table\n",
    "        ############################################\n",
    "        quantized_dct_blocks = torch.round(dequantized_dct_blocks / mth_q_table)  # lossy step\n",
    "        dequantized_dct_blocks = quantized_dct_blocks * mth_q_table\n",
    "        \n",
    "        ############################################\n",
    "        # Step 3.4: Compute 64 histograms from dequantized dct coefficients\n",
    "        ############################################\n",
    "        k_hists = compute_dct_coefficient_histogram(np.array(dequantized_dct_blocks.squeeze()), bin_range=bin_range)\n",
    "        k_hists_compare.append(k_hists)\n",
    "        \n",
    "    k_hists_compare = np.array(k_hists_compare).transpose(1,0,2)\n",
    "    return k_hists_compare\n",
    "\n",
    "def estimate_q_table(im_path, n, bin_range):\n",
    "    \"\"\"\n",
    "    Args:\n",
    "        im_path: Path to m-compressed image. Assume image is grayscale only.\n",
    "        n: Greatest value assumed by quantization factors\n",
    "    \"\"\"\n",
    "    # Step 1: Compute reference k DCT histograms for m-compressed image    \n",
    "    _, mth_q_table, quantized_dct_blocks_ref, _ = torchjpeg.codec.read_coefficients(im_path)\n",
    "    dct_blocks_ref = np.array((quantized_dct_blocks_ref * mth_q_table).squeeze()).reshape(-1, 8, 8)\n",
    "    stime = time.time()\n",
    "    k_hists_ref = compute_dct_coefficient_histogram(dct_blocks_ref, bin_range=bin_range)\n",
    "    \n",
    "    # Step 2: Simulate compressions to get k factor histograms\n",
    "    im = Image.open(im_path)\n",
    "    k_hists_compare = compression_simulation(im, n, mth_q_table, bin_range=bin_range)\n",
    "    \n",
    "    # Step 3: Compute closest histogram using chi-square histogram distance\n",
    "    estimation = np.zeros(64)\n",
    "    for i in range(64):\n",
    "        hist, idx = get_closest_histogram(k_hists_ref[i], k_hists_compare[i])\n",
    "        best_n = idx + 1  # since n starts from 1\n",
    "        estimation[i] = best_n\n",
    "    \n",
    "    return estimation.reshape((8,8))"
   ]
  },
  {
   "cell_type": "markdown",
   "id": "cb0d2667",
   "metadata": {},
   "source": [
    "#### Test individual images"
   ]
  },
  {
   "cell_type": "code",
   "execution_count": 3,
   "id": "f3fc3842",
   "metadata": {},
   "outputs": [
    {
     "data": {
      "image/png": "[encoded data removed]",
      "text/plain": [
       "<PIL.JpegImagePlugin.JpegImageFile image mode=L size=256x170>"
      ]
     },
     "metadata": {},
     "output_type": "display_data"
    },
    {
     "data": {
      "image/png": "[encoded data removed]",
      "text/plain": [
       "<PIL.JpegImagePlugin.JpegImageFile image mode=L size=256x170>"
      ]
     },
     "metadata": {},
     "output_type": "display_data"
    }
   ],
   "source": [
    "img_1_path = 'data_70_90/r000da54ft.jpg'\n",
    "im = Image.open(img_1_path)\n",
    "im.thumbnail((256,256))\n",
    "im.show()\n",
    "\n",
    "img_2_path = 'data_70_90/r006fcc20t.jpg'\n",
    "im = Image.open(img_2_path)\n",
    "im.thumbnail((256,256))\n",
    "im.show()"
   ]
  },
  {
   "cell_type": "code",
   "execution_count": 4,
   "id": "d2e76838",
   "metadata": {
    "scrolled": true
   },
   "outputs": [
    {
     "name": "stdout",
     "output_type": "stream",
     "text": [
      "Took 0.7956509590148926 seconds to compute reference histograms.\n",
      "tensor([[[ 3,  2,  2,  3,  5,  8, 10, 12],\n",
      "         [ 2,  2,  3,  4,  5, 12, 12, 11],\n",
      "         [ 3,  3,  3,  5,  8, 11, 14, 11],\n",
      "         [ 3,  3,  4,  6, 10, 17, 16, 12],\n",
      "         [ 4,  4,  7, 11, 14, 22, 21, 15],\n",
      "         [ 5,  7, 11, 13, 16, 21, 23, 18],\n",
      "         [10, 13, 16, 17, 21, 24, 24, 20],\n",
      "         [14, 18, 19, 20, 22, 20, 21, 20]]], dtype=torch.int16)\n",
      "Took 76.72450566291809 seconds.\n"
     ]
    },
    {
     "data": {
      "text/plain": [
       "array([[10.,  7.,  6., 10., 14., 24., 29., 71.],\n",
       "       [ 7.,  7.,  8., 11., 16., 35., 33., 73.],\n",
       "       [ 8.,  8., 10., 14., 24., 35., 36., 59.],\n",
       "       [ 8., 10., 13., 17., 29., 49., 41., 38.],\n",
       "       [11., 13., 22., 31., 37., 62., 41., 38.],\n",
       "       [14., 21., 33., 34., 46., 55., 10., 43.],\n",
       "       [28., 35., 41., 43., 32., 12.,  2.,  1.],\n",
       "       [72., 68., 67., 63., 40., 40.,  2., 10.]])"
      ]
     },
     "execution_count": 4,
     "metadata": {},
     "output_type": "execute_result"
    }
   ],
   "source": [
    "stime = time.time()\n",
    "est = estimate_q_table(img_2_path, 73, 100)\n",
    "print(f\"Took {time.time() - stime} seconds.\")\n",
    "est"
   ]
  },
  {
   "cell_type": "code",
   "execution_count": 145,
   "id": "759d6439",
   "metadata": {
    "scrolled": true
   },
   "outputs": [
    {
     "data": {
      "text/plain": [
       "array([[10,  7,  6, 10, 14, 24, 31, 37],\n",
       "       [ 7,  7,  8, 11, 16, 35, 36, 33],\n",
       "       [ 8,  8, 10, 14, 24, 34, 41, 34],\n",
       "       [ 8, 10, 13, 17, 31, 52, 48, 37],\n",
       "       [11, 13, 22, 34, 41, 65, 62, 46],\n",
       "       [14, 21, 33, 38, 49, 62, 68, 55],\n",
       "       [29, 38, 47, 52, 62, 73, 72, 61],\n",
       "       [43, 55, 57, 59, 67, 60, 62, 59]])"
      ]
     },
     "execution_count": 145,
     "metadata": {},
     "output_type": "execute_result"
    }
   ],
   "source": [
    "scale_q_table(q_table_luminance, 70)"
   ]
  },
  {
   "cell_type": "code",
   "execution_count": 33,
   "id": "6e71cbe6",
   "metadata": {},
   "outputs": [
    {
     "data": {
      "text/plain": [
       "array([0., 0., 0., 0., 0., 0., 0., 0., 0., 0., 0., 0., 0., 0., 0.])"
      ]
     },
     "execution_count": 33,
     "metadata": {},
     "output_type": "execute_result"
    }
   ],
   "source": [
    "est[zigzag_row_idx[:15], zigzag_col_idx[:15]] - scale_q_table(q_table_luminance, 70)[zigzag_row_idx[:15], zigzag_col_idx[:15]]"
   ]
  },
  {
   "cell_type": "markdown",
   "id": "0953f77e",
   "metadata": {},
   "source": [
    "#### Test full dataset"
   ]
  },
  {
   "cell_type": "code",
   "execution_count": 3,
   "id": "ab5b150b",
   "metadata": {},
   "outputs": [],
   "source": [
    "import glob\n",
    "import os\n",
    "import time"
   ]
  },
  {
   "cell_type": "markdown",
   "id": "45f82bbb",
   "metadata": {},
   "source": [
    "MAD = mean absolute difference"
   ]
  },
  {
   "cell_type": "code",
   "execution_count": 4,
   "id": "a3620f48",
   "metadata": {},
   "outputs": [],
   "source": [
    "def validate_raise(dataset_folder, params):\n",
    "    st = time.time()\n",
    "    dataset_path = glob.glob(os.path.join(dataset_folder, \"*\"))\n",
    "    print(dataset_path[0])\n",
    "    \n",
    "    n = params['n']\n",
    "    bin_range = params['bin_range']\n",
    "    gt_q_table = params['gt_q_table']\n",
    "    \n",
    "    results = []\n",
    "    start = time.time()\n",
    "    time_taken = 0\n",
    "    \n",
    "    running_first_15_acc = 0\n",
    "    running_first_15_mean_abs_diff = 0\n",
    "    running_first_28_acc = 0\n",
    "    running_first_28_mean_abs_diff = 0\n",
    "\n",
    "    for i, p in enumerate(dataset_path):\n",
    "        res = estimate_q_table(p, n, bin_range)\n",
    "\n",
    "        # calculate simple metrics\n",
    "        diff = res - gt_q_table\n",
    "        first_15_dct = diff[zigzag_row_idx[:15], zigzag_col_idx[:15]]\n",
    "        first_15_acc = ((first_15_dct == 0).sum() / len(first_15_dct)) * 100\n",
    "        first_15_mean_abs_diff = np.abs(first_15_dct).mean()\n",
    "        \n",
    "        first_28_dct = diff[zigzag_row_idx[:28], zigzag_col_idx[:28]]\n",
    "        first_28_acc = ((first_28_dct == 0).sum() / len(first_28_dct)) * 100\n",
    "        first_28_mean_abs_diff = np.abs(first_28_dct).mean()\n",
    "        \n",
    "        time_taken = (time.time() - start)\n",
    "        running_first_15_acc += first_15_acc\n",
    "        running_first_28_acc += first_28_acc\n",
    "        running_first_15_mean_abs_diff += first_15_mean_abs_diff\n",
    "        running_first_28_mean_abs_diff += first_28_mean_abs_diff\n",
    "        \n",
    "        # print intermediate results\n",
    "        first_15_results_str = f\"F15 DCT: {round(first_15_acc, 2)}% (Acc), {round(first_15_mean_abs_diff, 2)} (MAD)\"\n",
    "        first_28_results_str = f\"F28 DCT: {round(first_28_acc, 2)}% (Acc), {round(first_28_mean_abs_diff, 2)} (MAD)\"\n",
    "        time_str = f\"{round(time_taken, 2)}/{round(time_taken/(i+1)*len(dataset_path), 2)}s\"\n",
    "        print(f\"\\r[{i+1}/{len(dataset_path)}] - [{time_str}] - [{first_15_results_str}] - [{first_28_results_str}]\", end=\"\", flush=True)\n",
    "\n",
    "        if i != 0 and i % 10 == 0:\n",
    "            running_first_15_results_str = f\"First 15 DCT: {round(running_first_15_acc / (i+1), 2)}% (Acc), {round(running_first_15_mean_abs_diff / (i+1), 2)} (MAD)\"\n",
    "            running_first_28_results_str = f\"First 28 DCT: {round(running_first_28_acc / (i+1), 2)}% (Acc), {round(running_first_28_mean_abs_diff / (i+1), 2)} (MAD)\"\n",
    "            print(f\"\\nCurrent dataset metrics - [{running_first_15_results_str}] - [{running_first_28_results_str}]\")\n",
    "            \n",
    "        results.append(res)\n",
    "\n",
    "    print(f\"Total time taken: {round(time_taken, 2)} seconds.\")\n",
    "    print(f\"Ave time taken per image: {round(time_taken / len(dataset_path), 2)} seconds.\")\n",
    "    results = np.array(results)\n",
    "    \n",
    "    return results"
   ]
  },
  {
   "cell_type": "code",
   "execution_count": 5,
   "id": "825267c5",
   "metadata": {},
   "outputs": [],
   "source": [
    "q_table_luminance = np.array([\n",
    "    [16,  11,  10,  16,  24,  40,  51,  61],\n",
    "    [12,  12,  14,  19,  26,  58,  60,  55],\n",
    "    [14,  13,  16,  24,  40,  57,  69,  56],\n",
    "    [14,  17,  22,  29,  51,  87,  80,  62],\n",
    "    [18,  22,  37,  56,  68, 109, 103,  77],\n",
    "    [24,  35,  55,  64,  81, 104, 113,  92],\n",
    "    [49,  64,  78,  87, 103, 121, 120, 101],\n",
    "    [72,  92,  95,  98, 112, 100, 103,  99]\n",
    "])\n",
    "\n",
    "def scale_q_table(q_table, q_factor):\n",
    "    if q_factor <= 0:\n",
    "        q_factor = 1\n",
    "    if q_factor > 100:\n",
    "        q_factor = 100\n",
    "\n",
    "    if q_factor < 50:\n",
    "        scale_factor = 5000 / q_factor\n",
    "    else:\n",
    "        scale_factor = 200 - q_factor * 2\n",
    "    \n",
    "    scaled_table = (q_table * scale_factor + 50) // 100\n",
    "    scaled_table[scaled_table <= 0] = 1  # prevent zero division\n",
    "    return scaled_table\n",
    "\n",
    "q_table_1 = scale_q_table(q_table_luminance, 60)\n",
    "q_table_2 = scale_q_table(q_table_luminance, 90)"
   ]
  },
  {
   "cell_type": "code",
   "execution_count": 6,
   "id": "de7f76a8",
   "metadata": {},
   "outputs": [
    {
     "data": {
      "text/plain": [
       "97"
      ]
     },
     "execution_count": 6,
     "metadata": {},
     "output_type": "execute_result"
    }
   ],
   "source": [
    "q_table_1.max()"
   ]
  },
  {
   "cell_type": "code",
   "execution_count": 9,
   "id": "d18695b3",
   "metadata": {
    "scrolled": true
   },
   "outputs": [
    {
     "name": "stdout",
     "output_type": "stream",
     "text": [
      "data_60_90/r03aa5df1t.jpg\n",
      "[11/100] - [854.99/7772.61s] - [F15 DCT: 100.0% (Acc), 0.0 (MAD)] - [F28 DCT: 89.29% (Acc), 0.18 (MAD)]]\n",
      "Current dataset metrics - [First 15 DCT: 97.58% (Acc), 0.04 (MAD)] - [First 28 DCT: 67.21% (Acc), 0.95 (MAD)]\n",
      "[21/100] - [1649.33/7853.94s] - [F15 DCT: 100.0% (Acc), 0.0 (MAD)] - [F28 DCT: 60.71% (Acc), 0.89 (MAD)]]\n",
      "Current dataset metrics - [First 15 DCT: 98.1% (Acc), 0.04 (MAD)] - [First 28 DCT: 68.88% (Acc), 0.84 (MAD)]\n",
      "[31/100] - [2452.54/7911.41s] - [F15 DCT: 100.0% (Acc), 0.0 (MAD)] - [F28 DCT: 64.29% (Acc), 0.68 (MAD)]\n",
      "Current dataset metrics - [First 15 DCT: 98.06% (Acc), 0.04 (MAD)] - [First 28 DCT: 67.4% (Acc), 0.86 (MAD)]\n",
      "[41/100] - [3222.12/7858.83s] - [F15 DCT: 100.0% (Acc), 0.0 (MAD)] - [F28 DCT: 64.29% (Acc), 1.04 (MAD)]\n",
      "Current dataset metrics - [First 15 DCT: 97.56% (Acc), 0.04 (MAD)] - [First 28 DCT: 67.07% (Acc), 0.89 (MAD)]\n",
      "[51/100] - [3839.93/7529.27s] - [F15 DCT: 80.0% (Acc), 0.27 (MAD)] - [F28 DCT: 42.86% (Acc), 1.32 (MAD)]\n",
      "Current dataset metrics - [First 15 DCT: 97.12% (Acc), 0.05 (MAD)] - [First 28 DCT: 66.53% (Acc), 0.89 (MAD)]\n",
      "[61/100] - [4370.38/7164.57s] - [F15 DCT: 100.0% (Acc), 0.0 (MAD)] - [F28 DCT: 82.14% (Acc), 0.18 (MAD)]\n",
      "Current dataset metrics - [First 15 DCT: 97.6% (Acc), 0.04 (MAD)] - [First 28 DCT: 68.15% (Acc), 0.83 (MAD)]\n",
      "[71/100] - [4888.05/6884.58s] - [F15 DCT: 100.0% (Acc), 0.0 (MAD)] - [F28 DCT: 67.86% (Acc), 0.68 (MAD)]]\n",
      "Current dataset metrics - [First 15 DCT: 97.84% (Acc), 0.04 (MAD)] - [First 28 DCT: 68.46% (Acc), 0.81 (MAD)]\n",
      "[81/100] - [5386.4/6649.87s] - [F15 DCT: 100.0% (Acc), 0.0 (MAD)] - [F28 DCT: 60.71% (Acc), 1.14 (MAD)]]]\n",
      "Current dataset metrics - [First 15 DCT: 98.02% (Acc), 0.04 (MAD)] - [First 28 DCT: 69.0% (Acc), 0.78 (MAD)]\n",
      "[91/100] - [5876.67/6457.88s] - [F15 DCT: 100.0% (Acc), 0.0 (MAD)] - [F28 DCT: 78.57% (Acc), 0.29 (MAD)]]\n",
      "Current dataset metrics - [First 15 DCT: 97.95% (Acc), 0.04 (MAD)] - [First 28 DCT: 69.35% (Acc), 0.8 (MAD)]\n",
      "[100/100] - [6308.46/6308.46s] - [F15 DCT: 100.0% (Acc), 0.0 (MAD)] - [F28 DCT: 78.57% (Acc), 0.39 (MAD)]Total time taken: 6308.46 seconds.\n",
      "Ave time taken per image: 63.08 seconds.\n"
     ]
    },
    {
     "data": {
      "text/plain": [
       "array([[[13.,  9.,  8., ..., 33., 35., 85.],\n",
       "        [10., 10., 11., ..., 44., 52., 49.],\n",
       "        [11., 10., 13., ..., 48., 44., 47.],\n",
       "        ...,\n",
       "        [21., 29., 46., ..., 56.,  1., 40.],\n",
       "        [35., 55., 66., ..., 61.,  1., 34.],\n",
       "        [68., 87., 75., ..., 82.,  1., 48.]],\n",
       "\n",
       "       [[13.,  9.,  8., ..., 31., 35., 54.],\n",
       "        [10., 10., 11., ..., 45., 42., 46.],\n",
       "        [11., 10., 13., ..., 45., 49., 44.],\n",
       "        ...,\n",
       "        [19., 27., 42., ..., 61., 40., 49.],\n",
       "        [35., 46., 56., ..., 52.,  1., 38.],\n",
       "        [63., 81., 82., ..., 59., 37., 45.]],\n",
       "\n",
       "       [[13.,  9.,  8., ..., 35., 36., 81.],\n",
       "        [10., 10., 11., ..., 49., 44., 58.],\n",
       "        [11., 10., 13., ..., 49., 27., 53.],\n",
       "        ...,\n",
       "        [21., 30., 45., ..., 34.,  1.,  3.],\n",
       "        [35., 41., 32., ...,  1.,  1.,  1.],\n",
       "        [83., 53., 46., ...,  5.,  1.,  1.]],\n",
       "\n",
       "       ...,\n",
       "\n",
       "       [[13.,  9.,  8., ..., 33., 39., 54.],\n",
       "        [10., 10., 11., ..., 46., 47., 49.],\n",
       "        [11., 10., 13., ..., 46., 49., 49.],\n",
       "        ...,\n",
       "        [20., 29., 49., ..., 46.,  9., 41.],\n",
       "        [38., 53., 73., ...,  1.,  1.,  1.],\n",
       "        [63., 81., 79., ..., 10.,  5.,  9.]],\n",
       "\n",
       "       [[13.,  9.,  8., ..., 31., 35., 39.],\n",
       "        [10., 10., 11., ..., 44., 29., 39.],\n",
       "        [11., 10., 13., ..., 40.,  1., 26.],\n",
       "        ...,\n",
       "        [19., 27., 39., ..., 36.,  1.,  1.],\n",
       "        [35., 41.,  7., ...,  1.,  1.,  1.],\n",
       "        [49., 39., 33., ...,  1.,  1.,  1.]],\n",
       "\n",
       "       [[13.,  9.,  8., ..., 31., 38., 54.],\n",
       "        [10., 10., 11., ..., 45., 42., 49.],\n",
       "        [11., 10., 13., ..., 46., 49., 47.],\n",
       "        ...,\n",
       "        [19., 27., 42., ..., 87., 40., 62.],\n",
       "        [35., 46., 56., ..., 60.,  1., 32.],\n",
       "        [63., 75., 81., ..., 60., 41., 41.]]])"
      ]
     },
     "execution_count": 9,
     "metadata": {},
     "output_type": "execute_result"
    }
   ],
   "source": [
    "data_folder = 'data_60_90'\n",
    "params = {\n",
    "    \"n\": q_table_1.max(),\n",
    "    \"bin_range\": 100,\n",
    "    \"gt_q_table\": q_table_1\n",
    "}\n",
    "validate_raise(data_folder, params)"
   ]
  }
 ],
 "metadata": {
  "kernelspec": {
   "display_name": "Python [conda env:jpeg]",
   "language": "python",
   "name": "conda-env-jpeg-py"
  },
  "language_info": {
   "codemirror_mode": {
    "name": "ipython",
    "version": 3
   },
   "file_extension": ".py",
   "mimetype": "text/x-python",
   "name": "python",
   "nbconvert_exporter": "python",
   "pygments_lexer": "ipython3",
   "version": "3.8.13"
  },
  "toc": {
   "base_numbering": 1,
   "nav_menu": {},
   "number_sections": true,
   "sideBar": true,
   "skip_h1_title": true,
   "title_cell": "Table of Contents",
   "title_sidebar": "Contents",
   "toc_cell": false,
   "toc_position": {},
   "toc_section_display": true,
   "toc_window_display": true
  }
 },
 "nbformat": 4,
 "nbformat_minor": 5
}
