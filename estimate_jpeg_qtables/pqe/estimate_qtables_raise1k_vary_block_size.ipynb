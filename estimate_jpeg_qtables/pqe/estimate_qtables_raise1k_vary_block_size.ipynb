{
 "cells": [
  {
   "cell_type": "markdown",
   "id": "bc594152",
   "metadata": {},
   "source": [
    "## Introduction\n",
    "- This notebook contains the experiment that evaluates the effectiveness of the PQE experiment on the RAISE-2k dataset with varying block sizes.\n",
    "- The effect of varying block sizes is achieved by taking random crops on the uncompressed image before the double JPEG compression. \n",
    "- Please go through the experiment in `estimate_qtables_raise1k.ipynb` first before this experiment.\n",
    "- The cropped image is then JPEG compressed twice with random quality factors in range $[50,95]$ with intervals of $5$. Then, we estimate the first quantization matrix of the doubly compressed image using our PQE implementation.\n",
    "- Make sure to download the RAISE dataset before running this notebook. The dataset used in this notebook is the RAISE-2k subset."
   ]
  },
  {
   "cell_type": "markdown",
   "id": "45ceadb3",
   "metadata": {},
   "source": [
    "## Imports and settings"
   ]
  },
  {
   "cell_type": "code",
   "execution_count": 1,
   "id": "50c48226",
   "metadata": {},
   "outputs": [],
   "source": [
    "import io\n",
    "import os\n",
    "import sys\n",
    "import time\n",
    "import glob\n",
    "import pickle\n",
    "\n",
    "import numpy as np\n",
    "import pandas as pd\n",
    "import matplotlib.pyplot as plt\n",
    "from PIL import Image\n",
    "import torch\n",
    "import torch.nn.functional as F\n",
    "from torchvision.transforms.functional import to_tensor, to_pil_image\n",
    "import torchjpeg.codec\n",
    "from fast_histogram import histogram1d"
   ]
  },
  {
   "cell_type": "code",
   "execution_count": 2,
   "id": "b29d401e",
   "metadata": {},
   "outputs": [],
   "source": [
    "sys.path.append('/home/y/yuanbo/fyp/estimate_jpeg')\n",
    "sys.path.append('/home/y/yuanbo/fyp/estimate_jpeg/utils')\n",
    "\n",
    "from utils import *\n",
    "from q_table_estimation_torchjpeg import *"
   ]
  },
  {
   "cell_type": "markdown",
   "id": "0953f77e",
   "metadata": {},
   "source": [
    "## Create dataset of varying block sizes and random 1st and 2nd QFs"
   ]
  },
  {
   "cell_type": "markdown",
   "id": "fd275e04",
   "metadata": {},
   "source": [
    "4x4 to 64x64 blocks, so 32x32 to 512x512"
   ]
  },
  {
   "cell_type": "code",
   "execution_count": 5,
   "id": "20e52ece",
   "metadata": {},
   "outputs": [],
   "source": [
    "def random_crop(im):\n",
    "    w, h = im.size\n",
    "    crop_size_h = np.random.randint(16, 256) // 8 * 8\n",
    "    crop_size_w = np.random.randint(16, 256) // 8 * 8\n",
    "    random_x = np.random.randint(0, w - crop_size_w)\n",
    "    random_y = np.random.randint(0, h - crop_size_h)\n",
    "\n",
    "    crop_area = (random_x, random_y, random_x + crop_size_w, random_y + crop_size_h)\n",
    "    crop = im.crop(crop_area)\n",
    "    \n",
    "    return crop, (crop_size_h/8)*(crop_size_w/8)"
   ]
  },
  {
   "cell_type": "markdown",
   "id": "459ca860",
   "metadata": {},
   "source": [
    "### Make dataset"
   ]
  },
  {
   "cell_type": "markdown",
   "id": "7fc0ebc2",
   "metadata": {},
   "source": [
    "Take the random QF pairs from experiment in `estimate_qtables_raise1k.ipynb`."
   ]
  },
  {
   "cell_type": "code",
   "execution_count": 6,
   "id": "2a588e00",
   "metadata": {},
   "outputs": [],
   "source": [
    "df = pd.read_csv(\"random_qf_pairs.csv\", header=None)\n",
    "qf_pairs = list(df.itertuples(index=False, name=None))"
   ]
  },
  {
   "cell_type": "code",
   "execution_count": 9,
   "id": "ec667ed7",
   "metadata": {},
   "outputs": [
    {
     "name": "stdout",
     "output_type": "stream",
     "text": [
      "1999\n"
     ]
    }
   ],
   "source": [
    "test_path = glob.glob(\"../raise_1k/*\") + glob.glob(\"../raise_2k/*\")\n",
    "print(len(test_path))"
   ]
  },
  {
   "cell_type": "code",
   "execution_count": 12,
   "id": "04ca59a3",
   "metadata": {},
   "outputs": [
    {
     "name": "stdout",
     "output_type": "stream",
     "text": [
      "JPEG Compression randomized quality factors. Create dataset at data_random_qf_vary_block...\n",
      "Time taken to create dataset of 1999 images: 3129.09 seconds.\n"
     ]
    }
   ],
   "source": [
    "data_folder = f'data_random_qf_vary_block'\n",
    "os.makedirs(data_folder)\n",
    "\n",
    "qf_img_block_mapping = {\n",
    "    \"img\": [],\n",
    "    \"qf_1\": [],\n",
    "    \"qf_2\": [],\n",
    "    \"block_number\": [],\n",
    "}\n",
    "\n",
    "print(f\"JPEG Compression randomized quality factors. Create dataset at {data_folder}...\")\n",
    "start = time.time()\n",
    "for i, p in enumerate(test_path):\n",
    "    qf_1, qf_2 = qf_pairs[i]\n",
    "    q_table_1 = scale_q_table(STANDARD_LUMI_QT, qf_1)\n",
    "    q_table_2 = scale_q_table(STANDARD_LUMI_QT, qf_2)\n",
    "    \n",
    "    name, ext = os.path.splitext(os.path.basename(p))\n",
    "\n",
    "    im = Image.open(p).convert('L')\n",
    "    \n",
    "    # take random crop of random size\n",
    "    crop, bn = random_crop(im)\n",
    "    qf_img_block_mapping[\"block_number\"].append(bn)\n",
    "\n",
    "    # first compression\n",
    "    first_buffer = jpeg_compress_to_buffer(crop, q_table_1.reshape(-1))\n",
    "    first_im = Image.open(first_buffer)\n",
    "\n",
    "    # second compression\n",
    "    second_buffer = jpeg_compress_to_buffer(first_im, q_table_2.reshape(-1))\n",
    "\n",
    "    with open(f\"{data_folder}/{name}.jpg\", \"wb\") as f:\n",
    "        f.write(second_buffer.getbuffer())\n",
    "    \n",
    "    qf_img_block_mapping[\"img\"].append(f\"{name}.jpg\")\n",
    "    qf_img_block_mapping[\"qf_1\"].append(qf_1)\n",
    "    qf_img_block_mapping[\"qf_2\"].append(qf_2)\n",
    "\n",
    "duration = time.time() - start\n",
    "print(f\"Time taken to create dataset of {len(test_path)} images: {round(duration, 2)} seconds.\")"
   ]
  },
  {
   "cell_type": "markdown",
   "id": "4d2a71cc",
   "metadata": {},
   "source": [
    "r0bf7f938t.TIF is a problematic image"
   ]
  },
  {
   "cell_type": "code",
   "execution_count": 13,
   "id": "ae7af5b3",
   "metadata": {},
   "outputs": [
    {
     "data": {
      "image/png": "[encoded data removed]",
      "text/plain": [
       "<Figure size 432x288 with 1 Axes>"
      ]
     },
     "metadata": {
      "needs_background": "light"
     },
     "output_type": "display_data"
    }
   ],
   "source": [
    "plt.hist(np.array(qf_img_block_mapping[\"block_number\"]), bins=100)\n",
    "plt.show()"
   ]
  },
  {
   "cell_type": "code",
   "execution_count": 14,
   "id": "1c8e9db2",
   "metadata": {},
   "outputs": [
    {
     "data": {
      "text/html": [
       "<div>\n",
       "<style scoped>\n",
       "    .dataframe tbody tr th:only-of-type {\n",
       "        vertical-align: middle;\n",
       "    }\n",
       "\n",
       "    .dataframe tbody tr th {\n",
       "        vertical-align: top;\n",
       "    }\n",
       "\n",
       "    .dataframe thead th {\n",
       "        text-align: right;\n",
       "    }\n",
       "</style>\n",
       "<table border=\"1\" class=\"dataframe\">\n",
       "  <thead>\n",
       "    <tr style=\"text-align: right;\">\n",
       "      <th></th>\n",
       "      <th>img</th>\n",
       "      <th>qf_1</th>\n",
       "      <th>qf_2</th>\n",
       "      <th>block_number</th>\n",
       "    </tr>\n",
       "  </thead>\n",
       "  <tbody>\n",
       "    <tr>\n",
       "      <th>0</th>\n",
       "      <td>r146771d7t.jpg</td>\n",
       "      <td>60</td>\n",
       "      <td>55</td>\n",
       "      <td>81.0</td>\n",
       "    </tr>\n",
       "    <tr>\n",
       "      <th>1</th>\n",
       "      <td>r1e3303ebt.jpg</td>\n",
       "      <td>90</td>\n",
       "      <td>50</td>\n",
       "      <td>182.0</td>\n",
       "    </tr>\n",
       "    <tr>\n",
       "      <th>2</th>\n",
       "      <td>r1a2095b2t.jpg</td>\n",
       "      <td>50</td>\n",
       "      <td>60</td>\n",
       "      <td>224.0</td>\n",
       "    </tr>\n",
       "    <tr>\n",
       "      <th>3</th>\n",
       "      <td>r15dfc1b8t.jpg</td>\n",
       "      <td>100</td>\n",
       "      <td>55</td>\n",
       "      <td>64.0</td>\n",
       "    </tr>\n",
       "    <tr>\n",
       "      <th>4</th>\n",
       "      <td>r02897203t.jpg</td>\n",
       "      <td>50</td>\n",
       "      <td>100</td>\n",
       "      <td>540.0</td>\n",
       "    </tr>\n",
       "  </tbody>\n",
       "</table>\n",
       "</div>"
      ],
      "text/plain": [
       "              img  qf_1  qf_2  block_number\n",
       "0  r146771d7t.jpg    60    55          81.0\n",
       "1  r1e3303ebt.jpg    90    50         182.0\n",
       "2  r1a2095b2t.jpg    50    60         224.0\n",
       "3  r15dfc1b8t.jpg   100    55          64.0\n",
       "4  r02897203t.jpg    50   100         540.0"
      ]
     },
     "execution_count": 14,
     "metadata": {},
     "output_type": "execute_result"
    }
   ],
   "source": [
    "qf_img_block_mapping_df = pd.DataFrame(qf_img_block_mapping)\n",
    "qf_img_block_mapping_df.head()"
   ]
  },
  {
   "cell_type": "code",
   "execution_count": 15,
   "id": "0ab9f23e",
   "metadata": {},
   "outputs": [],
   "source": [
    "qf_img_block_mapping_df.to_csv(\"img_qf_block_mapping.csv\", index=False)"
   ]
  },
  {
   "cell_type": "markdown",
   "id": "56fa6941",
   "metadata": {},
   "source": [
    "### Estimate previous quantization matrix"
   ]
  },
  {
   "cell_type": "code",
   "execution_count": 16,
   "id": "9475ad9a",
   "metadata": {},
   "outputs": [
    {
     "name": "stdout",
     "output_type": "stream",
     "text": [
      "[101/1999] - [493.9/9775.25s] - [F15 DCT: 40.0% (Acc)]]]\n",
      "Current dataset metrics - [First 15 DCT: 37.82% (Acc)]\n",
      "[201/1999] - [967.59/9622.95s] - [F15 DCT: 26.67% (Acc)]\n",
      "Current dataset metrics - [First 15 DCT: 38.74% (Acc)]\n",
      "[301/1999] - [1494.63/9926.14s] - [F15 DCT: 20.0% (Acc)]]\n",
      "Current dataset metrics - [First 15 DCT: 37.94% (Acc)]\n",
      "[401/1999] - [2002.75/9983.76s] - [F15 DCT: 93.33% (Acc)]]\n",
      "Current dataset metrics - [First 15 DCT: 37.39% (Acc)]\n",
      "[501/1999] - [2461.62/9821.93s] - [F15 DCT: 0.0% (Acc)]]]]\n",
      "Current dataset metrics - [First 15 DCT: 37.68% (Acc)]\n",
      "[601/1999] - [2999.9/9978.02s] - [F15 DCT: 93.33% (Acc)]]\n",
      "Current dataset metrics - [First 15 DCT: 38.04% (Acc)]\n",
      "[701/1999] - [3549.71/10122.49s] - [F15 DCT: 0.0% (Acc)])]\n",
      "Current dataset metrics - [First 15 DCT: 38.6% (Acc)]\n",
      "[801/1999] - [4084.12/10192.46s] - [F15 DCT: 0.0% (Acc)])]\n",
      "Current dataset metrics - [First 15 DCT: 38.49% (Acc)]\n",
      "[901/1999] - [4580.17/10161.78s] - [F15 DCT: 0.0% (Acc)]]]\n",
      "Current dataset metrics - [First 15 DCT: 39.25% (Acc)]\n",
      "[1001/1999] - [5094.84/10174.4s] - [F15 DCT: 20.0% (Acc)])]\n",
      "Current dataset metrics - [First 15 DCT: 39.32% (Acc)]\n",
      "[1101/1999] - [5622.05/10207.51s] - [F15 DCT: 6.67% (Acc)]]\n",
      "Current dataset metrics - [First 15 DCT: 39.19% (Acc)]\n",
      "[1201/1999] - [6143.83/10226.07s] - [F15 DCT: 66.67% (Acc)]\n",
      "Current dataset metrics - [First 15 DCT: 38.71% (Acc)]\n",
      "[1301/1999] - [6682.89/10268.32s] - [F15 DCT: 93.33% (Acc)]\n",
      "Current dataset metrics - [First 15 DCT: 38.64% (Acc)]\n",
      "[1401/1999] - [7161.94/10218.93s] - [F15 DCT: 93.33% (Acc)]\n",
      "Current dataset metrics - [First 15 DCT: 38.39% (Acc)]\n",
      "[1501/1999] - [7673.78/10219.77s] - [F15 DCT: 6.67% (Acc)]]\n",
      "Current dataset metrics - [First 15 DCT: 38.51% (Acc)]\n",
      "[1601/1999] - [8190.94/10227.16s] - [F15 DCT: 20.0% (Acc)]]\n",
      "Current dataset metrics - [First 15 DCT: 38.19% (Acc)]\n",
      "[1701/1999] - [8673.93/10193.53s] - [F15 DCT: 13.33% (Acc)]\n",
      "Current dataset metrics - [First 15 DCT: 38.14% (Acc)]\n",
      "[1801/1999] - [9180.87/10190.2s] - [F15 DCT: 100.0% (Acc)]]\n",
      "Current dataset metrics - [First 15 DCT: 38.46% (Acc)]\n",
      "[1901/1999] - [9675.01/10173.78s] - [F15 DCT: 33.33% (Acc)]\n",
      "Current dataset metrics - [First 15 DCT: 38.71% (Acc)]\n",
      "[1999/1999] - [10189.85/10189.85s] - [F15 DCT: 6.67% (Acc)]]Total time taken: 10189.85 seconds.\n",
      "Ave time taken per image: 5.1 seconds.\n"
     ]
    }
   ],
   "source": [
    "n = 100\n",
    "bin_range = 100\n",
    "\n",
    "results = {\n",
    "    \"img\": [],\n",
    "    \"qf_1\": [],\n",
    "    \"qf_2\": [],\n",
    "    \"est_q_table\": [],\n",
    "    \"block_number\": [],\n",
    "}\n",
    "start = time.time()\n",
    "time_taken = 0\n",
    "\n",
    "running_first_15_acc = 0\n",
    "\n",
    "for i in range(len(test_path)):\n",
    "    p = os.path.join(data_folder, qf_img_block_mapping[\"img\"][i])\n",
    "    res = estimate_q_table(p, n, bin_range)\n",
    "    time_taken = (time.time() - start)\n",
    "\n",
    "    # calculate simple metrics\n",
    "    gt_q_table = scale_q_table(STANDARD_LUMI_QT, qf_img_block_mapping[\"qf_1\"][i])\n",
    "    diff = res - gt_q_table\n",
    "    first_15_dct = diff[ZIGZAG_ROW_IDX[:15], ZIGZAG_COL_IDX[:15]]\n",
    "    first_15_acc = ((first_15_dct == 0).sum() / len(first_15_dct)) * 100\n",
    "    running_first_15_acc += first_15_acc\n",
    "\n",
    "    # print intermediate results\n",
    "    first_15_results_str = f\"F15 DCT: {round(first_15_acc, 2)}% (Acc)\"\n",
    "    time_str = f\"{round(time_taken, 2)}/{round(time_taken/(i+1)*len(test_path), 2)}s\"\n",
    "    print(f\"\\r[{i+1}/{len(test_path)}] - [{time_str}] - [{first_15_results_str}]\", end=\"\", flush=True)\n",
    "\n",
    "    if i != 0 and i % 100 == 0:\n",
    "        running_first_15_results_str = f\"First 15 DCT: {round(running_first_15_acc / (i+1), 2)}% (Acc)\"\n",
    "        print(f\"\\nCurrent dataset metrics - [{running_first_15_results_str}]\")\n",
    "\n",
    "    results[\"img\"].append(qf_img_block_mapping[\"img\"][i])\n",
    "    results[\"qf_1\"].append(qf_img_block_mapping[\"qf_1\"][i])\n",
    "    results[\"qf_2\"].append(qf_img_block_mapping[\"qf_2\"][i])\n",
    "    results[\"est_q_table\"].append(res)\n",
    "    results[\"block_number\"].append(qf_img_block_mapping[\"block_number\"][i])\n",
    "\n",
    "\n",
    "print(f\"Total time taken: {round(time_taken, 2)} seconds.\")\n",
    "print(f\"Ave time taken per image: {round(time_taken / len(test_path), 2)} seconds.\")"
   ]
  },
  {
   "cell_type": "code",
   "execution_count": 17,
   "id": "0e3c9ebe",
   "metadata": {},
   "outputs": [],
   "source": [
    "with open('res_random_qf_vary_block.pkl', 'wb') as handle:\n",
    "    pickle.dump(results, handle)"
   ]
  },
  {
   "cell_type": "code",
   "execution_count": null,
   "id": "8ec0678a",
   "metadata": {},
   "outputs": [],
   "source": []
  }
 ],
 "metadata": {
  "kernelspec": {
   "display_name": "Python [conda env:jpeg]",
   "language": "python",
   "name": "conda-env-jpeg-py"
  },
  "language_info": {
   "codemirror_mode": {
    "name": "ipython",
    "version": 3
   },
   "file_extension": ".py",
   "mimetype": "text/x-python",
   "name": "python",
   "nbconvert_exporter": "python",
   "pygments_lexer": "ipython3",
   "version": "3.8.13"
  },
  "toc": {
   "base_numbering": 1,
   "nav_menu": {},
   "number_sections": true,
   "sideBar": true,
   "skip_h1_title": true,
   "title_cell": "Table of Contents",
   "title_sidebar": "Contents",
   "toc_cell": false,
   "toc_position": {},
   "toc_section_display": true,
   "toc_window_display": true
  }
 },
 "nbformat": 4,
 "nbformat_minor": 5
}
